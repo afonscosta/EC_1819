{
 "cells": [
  {
   "cell_type": "markdown",
   "metadata": {},
   "source": [
    "# Hidden Number Problem\n",
    "\n",
    "## Inicialização da classe\n",
    "Foi implementada uma classe que permite a resolução de problemas de Hidden Number Problem (HNP). São nesta guardadas as variáveis necessárias para a resolução do problema, bem como a lógica do mesmo. Esta recebe três inteiros `p`, `k` e `l` na sua inicialização, com os quais efetua os seguintes passos:\n",
    "1. Guardam-se as variáveis de inicialização.\n",
    "2. Calcula e armazena-se o `lambda = 2^(k+1)` é utilizado na inicialização das matrizes `L` e `target`.\n",
    "3. Inicializa-se o vetor `x` com `l` valores inteiros entre `[0..p - 1]`.\n",
    "4. Inicializa-se a matriz `L` de dimensão `(l + 1) * (l + 1)`.   $${L}\\;\\equiv\\; \\left\\lbrack \\begin{array}{c|c} p\\,\\mathbf{I}_\\ell & 0 \\\\\\mathbf{x} & \\lambda^{-1} \\end{array} \\right\\rbrack$$ \n",
    "Como esta é originalmente uma matriz de racionais, os seus valores são também multiplicados por `lambda` de modo a torná-la uma matriz de inteiros: $${L}\\;\\equiv\\; \\left\\lbrack \\begin{array}{c|c} \\lambda\\,p\\,\\mathbf{I}_\\ell & 0 \\\\\\lambda\\,\\mathbf{x} & 1 \\end{array}\\right\\rbrack$$\n",
    "\n",
    "## Inicialização das matrizes de incógnitas\n",
    "O HNP trata de determinar um inteiro `s` a partir dos vetores `target` e `w` de dimensão `l + 1`. Estes são derivadas a partir do valor `s` bem como do vetor `x`:\n",
    "+ O vetor `target` obtém-se recorrendo à aplicação da função de inteiros `msb` ao produto de cada um dos inteiros de `x` com `s`, sendo o `l+1`-ésimo elemento igual a 0. A função `msb` é responsável por calcular um inteiro a partir dos `k` bits mais significativos de um dado valor. Como esta se trata originalmente de um vetor de racionais, cada elemento é posteriormente multiplicado por `lambda` de modo a torná-a uma matriz de inteiros.\n",
    "+ O vetor `w` obtém-se recorrendo à aplicação da função de inteiros `quo` ao produto de cada um dos inteiros de `x` com `s`, sendo o `l+1`-ésimo elemento igual a `s`. A função `quo` é responsável por calcular a divisão inteira de um valor por `p`.\n",
    "\n",
    "## Resolução do HNP\n",
    "Para \n",
    "1. Calcula-se `w * L - target` e calcula-se a norma do vetor resultante a ordem `p`, que se define pelo máximo do cálculo `min(|x|, p - |x|)` sobre cada um dos valores do vetor resultante. \n",
    "2. Compara-se a norma com `p`. Caso esta seja menor ou igual a `p`, é possível concluir que o vetor `α ≡ w * L` é muito provavelmente o ponto do reticulado mais próximo de `target`. Caso contrário, não é possível discernir qual será o vetor mais próximo de `target`.\n",
    "3. Calculando `α`, seria possível recuperar `s` através do produto do seu `l+1`-ésimo valor com `lambda`. No entanto, devido à configuração aplicada, necessita-se apenas extrair o `l+1`-ésimo valor sem quaisquer outros cálculo, dado que, relativo à configuração original, `α = (lambda * w) * (lambda * L) = lambda * (w * L)`. ."
   ]
  },
  {
   "cell_type": "code",
   "execution_count": 1,
   "metadata": {},
   "outputs": [],
   "source": [
    "class HNP:\n",
    "    def __init__(self, p, k, l):\n",
    "        self.p = p\n",
    "        self.k = k\n",
    "        self.l = l\n",
    "        self.x = [0] * l\n",
    "        self.lam = 2**(k + 1)\n",
    "        self.L = self.lam * p * matrix.identity(l+1)\n",
    "        self.L[l, l] = 1\n",
    "        for i in range(l):\n",
    "            self.x[i] = int(ZZ.random_element(l))\n",
    "            self.L[l,i] = self.lam * self.x[i]\n",
    "    \n",
    "    def target(self, s):\n",
    "        t = [0] * (self.l + 1)\n",
    "        for i in range(self.l):\n",
    "            t[i] = hnp.lam * hnp.msb(hnp.x[i] * s)\n",
    "        return t\n",
    "    \n",
    "    def w(self, s):\n",
    "        w = [0] * (hnp.l + 1)\n",
    "        for i in range(hnp.l):\n",
    "            w[i] = -hnp.quo(int(self.x[i] * s))\n",
    "        w[hnp.l] = s\n",
    "        return w\n",
    "        \n",
    "    def msb(self, s):\n",
    "        v = int(ZZ(s.bits()[-self.k::],2))\n",
    "        return mod(v,self.p)\n",
    "\n",
    "    def quo(self, s):\n",
    "        return s//self.p\n",
    "    \n",
    "    def norm(self, matrix):\n",
    "        m = -1\n",
    "        for x in matrix:\n",
    "            aux = min(abs(int(x)), self.p - abs(int(x)))\n",
    "            if aux > m:\n",
    "                m = aux\n",
    "        return m\n",
    "    \n",
    "    def solve(self, t, w):\n",
    "        val = (vector(w)*self.L-vector(t))\n",
    "        \n",
    "        norm = int(str(hnp.norm(val)))\n",
    "        \n",
    "        print(\"norm = \" + str(norm))\n",
    "        print(\"p = \" + str(hnp.p))\n",
    "        \n",
    "        if norm > self.p:\n",
    "            raise ValueError(\"Norma superior ao valor de p\")\n",
    "        \n",
    "        alpha = vector(w) * self.L\n",
    "        \n",
    "        s = alpha[self.l]\n",
    "        \n",
    "        return s"
   ]
  },
  {
   "cell_type": "markdown",
   "metadata": {},
   "source": [
    "# Exemplo de inicialização do problema"
   ]
  },
  {
   "cell_type": "code",
   "execution_count": 2,
   "metadata": {},
   "outputs": [],
   "source": [
    "hnp = HNP(50,50,256)\n",
    "\n",
    "s = ZZ.random_element(hnp.l)\n",
    "while s == 0:\n",
    "    s = ZZ.random_element(hnp.l)\n",
    "\n",
    "t = hnp.target(s)\n",
    "w = hnp.w(s)"
   ]
  },
  {
   "cell_type": "markdown",
   "metadata": {},
   "source": [
    "# Exemplo de resolução do problema"
   ]
  },
  {
   "cell_type": "code",
   "execution_count": 3,
   "metadata": {},
   "outputs": [
    {
     "name": "stdout",
     "output_type": "stream",
     "text": [
      "norm = 10\n",
      "p = 50\n",
      "CPU times: user 78 ms, sys: 156 ms, total: 234 ms\n",
      "Wall time: 240 ms\n",
      "s = 190\n",
      "solution = 190\n",
      "s = solution ? True\n"
     ]
    }
   ],
   "source": [
    "%time solution = hnp.solve(t, w)\n",
    "\n",
    "print(\"s = \" + str(s))\n",
    "print(\"solution = \" + str(solution))\n",
    "print(\"s = solution ? \" + str(s == solution))"
   ]
  }
 ],
 "metadata": {
  "kernelspec": {
   "display_name": "SageMath 8.4",
   "language": "",
   "name": "sagemath"
  },
  "language_info": {
   "codemirror_mode": {
    "name": "ipython",
    "version": 2
   },
   "file_extension": ".py",
   "mimetype": "text/x-python",
   "name": "python",
   "nbconvert_exporter": "python",
   "pygments_lexer": "ipython2",
   "version": "2.7.15"
  }
 },
 "nbformat": 4,
 "nbformat_minor": 2
}
