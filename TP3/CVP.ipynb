{
 "cells": [
  {
   "cell_type": "code",
   "execution_count": 23,
   "metadata": {},
   "outputs": [],
   "source": [
    "class HNP:\n",
    "    def __init__(self, p, k, l):\n",
    "        self.p = p\n",
    "        self.k = k\n",
    "        self.l = l\n",
    "        self.x = [0] * l\n",
    "        lam = 2**(k + 1)\n",
    "        self.L = lam * p * matrix.identity(l+1)\n",
    "        self.L[l, l] = 1\n",
    "        for i in range(l):\n",
    "            self.x[i] = int(ZZ.random_element(l))\n",
    "            self.L[l,i] = lam * self.x[i]\n",
    "        print(self.L)\n",
    "        print(self.x)\n",
    "        \n",
    "    def msb(self, s):\n",
    "        v = int(ZZ(s.bits()[-self.k::],2))\n",
    "        return mod(v,self.p)\n",
    "\n",
    "    def quo(self, s):\n",
    "        return s//self.p\n",
    "    \n",
    "    def norm(self, matrix):\n",
    "        m = -1\n",
    "        for x in matrix:\n",
    "            aux = min(abs(int(x)), self.p - abs(int(x)))\n",
    "            if aux > m:\n",
    "                m = aux\n",
    "        return m"
   ]
  },
  {
   "cell_type": "code",
   "execution_count": 24,
   "metadata": {},
   "outputs": [
    {
     "name": "stdout",
     "output_type": "stream",
     "text": [
      "[20480     0     0     0     0     0     0     0     0     0]\n",
      "[    0 20480     0     0     0     0     0     0     0     0]\n",
      "[    0     0 20480     0     0     0     0     0     0     0]\n",
      "[    0     0     0 20480     0     0     0     0     0     0]\n",
      "[    0     0     0     0 20480     0     0     0     0     0]\n",
      "[    0     0     0     0     0 20480     0     0     0     0]\n",
      "[    0     0     0     0     0     0 20480     0     0     0]\n",
      "[    0     0     0     0     0     0     0 20480     0     0]\n",
      "[    0     0     0     0     0     0     0     0 20480     0]\n",
      "[16384  4096  4096     0 16384 14336  4096  4096 10240     1]\n",
      "[8, 2, 2, 0, 8, 7, 2, 2, 5]\n",
      "<type 'sage.rings.integer.Integer'>\n",
      "<type 'sage.rings.integer.Integer'>\n",
      "<type 'sage.rings.integer.Integer'>\n",
      "6\n",
      "[4, 6, 6, 0, 4, 6, 6, 6, 0, 0]\n",
      "[-4, -1, -1, 0, -4, -4, -1, -1, -3, 6]\n"
     ]
    }
   ],
   "source": [
    "hnp = HNP(10,10,9)\n",
    "\n",
    "\n",
    "\n",
    "s = ZZ.random_element(hnp.l)\n",
    "while s == 0:\n",
    "    s = ZZ.random_element(hnp.l)\n",
    "print(s)\n",
    "\n",
    "t = [0] * (hnp.l + 1)\n",
    "w = [0] * (hnp.l + 1)\n",
    "for i in range(hnp.l):\n",
    "    val = hnp.x[i] * s\n",
    "    t[i] = (2**(hnp.k + 1)) * hnp.msb(val)\n",
    "    w[i] = -hnp.quo(int(val))\n",
    "w[hnp.l] = s\n",
    "print(t)\n",
    "print(w)"
   ]
  },
  {
   "cell_type": "code",
   "execution_count": 28,
   "metadata": {},
   "outputs": [
    {
     "name": "stdout",
     "output_type": "stream",
     "text": [
      "(0, 0, 0, 0, 0, 0, 0, 0, 0, 6)\n",
      "norm = 4\n",
      "p = 10\n",
      "True\n",
      "(16384, 4096, 4096, 0, 16384, 4096, 4096, 4096, 0, 6)\n",
      "6\n",
      "True\n"
     ]
    }
   ],
   "source": [
    "val = (vector(w)*hnp.L-vector(t))\n",
    "print(val)\n",
    "\n",
    "norm = int(str(hnp.norm(val)))\n",
    "print(\"norm = \" + str(norm))\n",
    "\n",
    "print(\"p = \" + str(hnp.p))\n",
    "print(norm <= hnp.p)\n",
    "\n",
    "alpha = vector(w) * hnp.L\n",
    "print(alpha)\n",
    "\n",
    "new_s = alpha[hnp.l]\n",
    "print(new_s)\n",
    "\n",
    "print(s == new_s)"
   ]
  },
  {
   "cell_type": "code",
   "execution_count": null,
   "metadata": {},
   "outputs": [],
   "source": []
  }
 ],
 "metadata": {
  "kernelspec": {
   "display_name": "SageMath 8.4",
   "language": "",
   "name": "sagemath"
  },
  "language_info": {
   "codemirror_mode": {
    "name": "ipython",
    "version": 2
   },
   "file_extension": ".py",
   "mimetype": "text/x-python",
   "name": "python",
   "nbconvert_exporter": "python",
   "pygments_lexer": "ipython2",
   "version": "2.7.15"
  }
 },
 "nbformat": 4,
 "nbformat_minor": 2
}
