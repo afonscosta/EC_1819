{
 "cells": [
  {
   "cell_type": "markdown",
   "metadata": {},
   "source": [
    "# Ataques à inversão da chave pública e inversão do criptograma\n",
    "\n",
    "Recorrendo ao reticulado definido no *notebook* `NTRU-cipher` e à classe `Lat`, procedeu-se à tentativa de implementação de ataques à inversão da chave pública e inversão do criptograma referidos no artigo *NTRU and Lattice-Based Crypto:\n",
    "Past, Present, and Future*, utilizando redução de bases."
   ]
  },
  {
   "cell_type": "markdown",
   "metadata": {},
   "source": [
    "## Parâmetros\n",
    "Vamos usar\n",
    "+ $d \\ge 6$ --\n",
    "  parâmetro de segurança\n",
    "+ $N$ --\n",
    "  um primo maior ou igual  2^d\n",
    "  \n",
    "+ $p$ --\n",
    "  um pequeno primo  3,  5 ou  7\n",
    " \n",
    "+ $q$ --\n",
    "  um primo da ordem de grandeza de  $p*N$\n",
    " \n",
    "\n",
    " "
   ]
  },
  {
   "cell_type": "code",
   "execution_count": 111,
   "metadata": {},
   "outputs": [
    {
     "name": "stdout",
     "output_type": "stream",
     "text": [
      "4 53 3 17\n"
     ]
    }
   ],
   "source": [
    "d = 4\n",
    "\n",
    "N = next_prime(1 << d)\n",
    "p = 3\n",
    "q = next_prime(p*N)\n",
    "\n",
    "print d, q, p, N"
   ]
  },
  {
   "cell_type": "markdown",
   "metadata": {},
   "source": [
    "### anéis de polinómios\n",
    "\n",
    "Definem-se os anéis `Z[x]` e `(Z/q)[x]/(x^N - 1)` como `Q`."
   ]
  },
  {
   "cell_type": "code",
   "execution_count": 112,
   "metadata": {},
   "outputs": [],
   "source": [
    "Z.<x>  = ZZ[]        # polinómios de coeficientes inteiros\n",
    "Q.<x>  = PolynomialRing(GF(q),name='x').quotient(x^N-1)"
   ]
  },
  {
   "cell_type": "markdown",
   "metadata": {},
   "source": [
    "### geração aleatória, arredondamento módulo $q$ e compração módulo $p$\n",
    "\n",
    "É definido um conjunto de funções auxiliares utilizadas pela classe NTRU e pelo reticulado:\n",
    "+ A função `vec` é responsável por gerar um vetor curto de dimensão `N`. \n",
    "+ A função `qrnd` trata de fazer o arredondamento de vetores pertencentes a `Q` a módulo de `q`.\n",
    "+ A função `prnd` trata arredondar um dado vetor a módulo de `p`."
   ]
  },
  {
   "cell_type": "code",
   "execution_count": 113,
   "metadata": {},
   "outputs": [],
   "source": [
    "def vec():\n",
    "    return  [choice([-1,0,1]) for k in range(N)]\n",
    "\n",
    "# arredondamento módulo 'q'\n",
    "def qrnd(f):    # argumento em 'Q'\n",
    "    qq = (q-1)//2 ; ll = map(lift,f.list())\n",
    "    return [n if n <= qq else n - q  for n in ll]\n",
    "\n",
    "# arredondamento módulo 'p'\n",
    "def prnd(l):\n",
    "    pp = (p-1)//2\n",
    "    rr = lambda x: x if x <= pp else x - p        \n",
    "    return [rr(n%p) if n>=0 else -rr((-n)%p) for n in l]\n",
    "\n",
    "# comparação módulo 'p'\n",
    "#def equalp(x,y,p):\n",
    "#    return  all([(a-b)%p == 0  for (a,b) in zip(x,y)] )"
   ]
  },
  {
   "cell_type": "markdown",
   "metadata": {},
   "source": [
    "### Classe NTRU\n",
    "\n",
    "Foi implementada uma classe que permite a cifragem e decifragem de mensagens recorrendo ao algoritmo NTRU-Prime. São nesta guardadas as variáveis necessárias para a resolução do problema, bem como a lógica do mesmo. A sua inicialização efetua os seguintes passos:\n",
    "1. Geração de um vetor `f` invertível em `Q` que servirá como chave privada.\n",
    "2. Gerar um vetor `g` pertencente a `Q` que, em conjunto  com `f`, é utilizado para derivar a respetiva chave pública.\n",
    "\n",
    "A função de cifragem é trata-se de um processo simples no qual o valor de uma mensagem `m` é calculado em `Q` e posteriormente somado ao produto da chave pública com um vetor aleatório `r`. De modo semelhante, a função de decifragem trata da aplicação da chave privada a um criptograma seguido pelo arredondamento do resultado de volta a `Z[x]`."
   ]
  },
  {
   "cell_type": "code",
   "execution_count": 114,
   "metadata": {},
   "outputs": [],
   "source": [
    "class NTRU(object):\n",
    "    def __init__(self):\n",
    "        # calcular um 'f' invertível\n",
    "        f = Q(0)\n",
    "        while not f.is_unit():\n",
    "            F = Q(vec()); f = 1 + p*F\n",
    "        # gerar as chaves\n",
    "        G = Q(vec()) ; g = p*G\n",
    "        self.f = f\n",
    "        self.h = f^(-1) * g\n",
    "        \n",
    "    def encrypt(self,m):\n",
    "        r = Q(vec()) \n",
    "        return r*self.h + Q(m)\n",
    "\n",
    "    def decrypt(self,e):\n",
    "        a = e*self.f\n",
    "        return prnd(qrnd(a))\n"
   ]
  },
  {
   "cell_type": "markdown",
   "metadata": {},
   "source": [
    "### Teste"
   ]
  },
  {
   "cell_type": "code",
   "execution_count": 115,
   "metadata": {},
   "outputs": [
    {
     "data": {
      "text/plain": [
       "True"
      ]
     },
     "execution_count": 115,
     "metadata": {},
     "output_type": "execute_result"
    }
   ],
   "source": [
    "# Uma instância NTRU\n",
    "K = NTRU() \n",
    "# Uma mensagem aleatória\n",
    "m = vec()\n",
    "# Cifrar\n",
    "e = K.encrypt(m)  \n",
    "# Decifrar e Verificar\n",
    "m == K.decrypt(e)\n"
   ]
  },
  {
   "cell_type": "markdown",
   "metadata": {
    "collapsed": true
   },
   "source": [
    "## Reticulado $L(h)$"
   ]
  },
  {
   "cell_type": "code",
   "execution_count": 116,
   "metadata": {},
   "outputs": [],
   "source": [
    "# Construção da matriz geradora por blocos\n",
    "import numpy as np\n",
    "import sage.modules.free_module_integer as fmi\n",
    "# http://doc.sagemath.org/html/en/reference/modules/sage/modules/free_module_integer.html\n",
    "\n",
    "class Lat(NTRU):\n",
    "    def __init__(self):\n",
    "        super(Lat,self).__init__()\n",
    "        B1 = identity_matrix(ZZ,N); Bq = q*B1; B0 = matrix(ZZ,N,N,[0]*(N^2))\n",
    "        h = qrnd(self.h)\n",
    "        # rodar um vetor\n",
    "        H = [h]\n",
    "        for k in range(N-1):\n",
    "            h = [h[-1]] + h[:-1]   # shift right rotate\n",
    "            H = H + [h]\n",
    "        H = matrix(ZZ,N,N,H)\n",
    "        #print block_matrix([[B1,H],[B0,Bq]])\n",
    "        self.L = fmi.IntegerLattice(block_matrix([[Bq,B0],[H,B1]]))"
   ]
  },
  {
   "cell_type": "markdown",
   "metadata": {},
   "source": [
    "## Exemplo de ataques\n",
    "\n",
    "Foi implementado um algoritmo que executa um conjunto de testes consecutivos sobre mensagens numa tentativa de determinar os vetores mais próximos e mais curtos das mesmas, processo qual, se bem sucedido, potencia a quebra da cifra. Para tal, recorreu-se ao seguinte processo:\n",
    "1. "
   ]
  },
  {
   "cell_type": "code",
   "execution_count": 117,
   "metadata": {},
   "outputs": [
    {
     "name": "stdout",
     "output_type": "stream",
     "text": [
      "0\n",
      "0\n"
     ]
    }
   ],
   "source": [
    "m = vec()\n",
    "\n",
    "count = 0\n",
    "cvp_found = 0\n",
    "svp_found = 0\n",
    "while count < 10000:\n",
    "    count += 1\n",
    "    l = Lat()\n",
    "    m = vec()\n",
    "    e = l.encrypt(m)\n",
    "    \n",
    "    target = [0] * N + qrnd(Q(list(e)))\n",
    "    targetNeg = [-x for x in qrnd(Q(list(e)))]\n",
    "    targetNeg = [0] * N + targetNeg\n",
    "    \n",
    "    l1   = matrix(l.L.reduced_basis)\n",
    "    t    = matrix(1,2*N,targetNeg)\n",
    "    zero = matrix(2*N,1,[0]*(2*N))\n",
    "    M    = matrix(1,1,[q**2])\n",
    "    \n",
    "    L1 = block_matrix(2,2,[[l1,zero],[t,M]])\n",
    "    \n",
    "    Lred = fmi.IntegerLattice(L1).reduced_basis\n",
    "    \n",
    "    svp = np.array(Lred[0][:-1])\n",
    "    a = e*(1 + p*Q(list(svp[:N])))\n",
    "    if m == prnd(qrnd(a)):\n",
    "        svp_found += 1\n",
    "    err1 = np.array(Lred[2*N][:-1])\n",
    "    y1 = err1 + target\n",
    "    if m == prnd(list(y1)[N:]):\n",
    "        cvp_found += 1\n",
    "print cvp_found\n",
    "print svp_found"
   ]
  }
 ],
 "metadata": {
  "kernelspec": {
   "display_name": "SageMath 8.4",
   "language": "",
   "name": "sagemath"
  },
  "language_info": {
   "codemirror_mode": {
    "name": "ipython",
    "version": 2
   },
   "file_extension": ".py",
   "mimetype": "text/x-python",
   "name": "python",
   "nbconvert_exporter": "python",
   "pygments_lexer": "ipython2",
   "version": "2.7.15"
  }
 },
 "nbformat": 4,
 "nbformat_minor": 2
}
