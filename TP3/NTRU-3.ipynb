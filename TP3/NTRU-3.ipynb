{
 "cells": [
  {
   "cell_type": "markdown",
   "metadata": {},
   "source": [
    "\n",
    "## NTRU 2015\n",
    "A implementação de NTRU versão de 2015 descrita no paper \"**NTRU and Lattice-Based Crypto: Past, Present, and Future**\" de *Joseph H. Silverman*, Brown University apresentado no encontro The Mathematics of Post-Quantum Cryptography, DIMACS Center, Rutgers University em 12–16 de Janeiro de 2015."
   ]
  },
  {
   "cell_type": "markdown",
   "metadata": {},
   "source": [
    "## Parâmetros\n",
    "Vamos usar\n",
    "+ $d \\ge 6$ --\n",
    "  parâmetro de segurança\n",
    "+ $N$ --\n",
    "  um primo maior ou igual  2^d\n",
    "  \n",
    "+ $p$ --\n",
    "  um pequeno primo  3,  5 ou  7\n",
    " \n",
    "+ $q$ --\n",
    "  um primo da ordem de grandeza de  $p*N$\n",
    " \n",
    "\n",
    " "
   ]
  },
  {
   "cell_type": "code",
   "execution_count": 1,
   "metadata": {},
   "outputs": [
    {
     "name": "stdout",
     "output_type": "stream",
     "text": [
      "2 17 3 5\n"
     ]
    }
   ],
   "source": [
    "d = 2\n",
    "\n",
    "N = next_prime(1 << d)\n",
    "p = 3\n",
    "q = next_prime(p*N)\n",
    "\n",
    "print d, q, p, N"
   ]
  },
  {
   "cell_type": "markdown",
   "metadata": {},
   "source": [
    "### anéis de polinómios"
   ]
  },
  {
   "cell_type": "code",
   "execution_count": 2,
   "metadata": {},
   "outputs": [],
   "source": [
    "Z.<x>  = ZZ[]        # polinómios de coeficientes inteiros\n",
    "Q.<x>  = PolynomialRing(GF(q),name='x').quotient(x^N-1)"
   ]
  },
  {
   "cell_type": "markdown",
   "metadata": {},
   "source": [
    "### geração aleatória, arredondamento módulo $q$ e compração módulo $p$"
   ]
  },
  {
   "cell_type": "code",
   "execution_count": 3,
   "metadata": {},
   "outputs": [],
   "source": [
    "def vec():\n",
    "    return  [choice([-1,0,1]) for k in range(N)]\n",
    "\n",
    "# arredondamento módulo 'q'\n",
    "def qrnd(f):    # argumento em 'Q'\n",
    "    qq = (q-1)//2 ; ll = map(lift,f.list())\n",
    "    return [n if n <= qq else n - q  for n in ll]\n",
    "\n",
    "# arredondamento módulo 'p'\n",
    "def prnd(l):\n",
    "    pp = (p-1)//2\n",
    "    rr = lambda x: x if x <= pp else x - p        \n",
    "    return [rr(n%p) if n>=0 else -rr((-n)%p) for n in l]\n",
    "\n",
    "# comparação módulo 'p'\n",
    "#def equalp(x,y,p):\n",
    "#    return  all([(a-b)%p == 0  for (a,b) in zip(x,y)] )"
   ]
  },
  {
   "cell_type": "markdown",
   "metadata": {},
   "source": [
    "### classe NTRU"
   ]
  },
  {
   "cell_type": "code",
   "execution_count": 4,
   "metadata": {},
   "outputs": [],
   "source": [
    "class NTRU(object):\n",
    "    def __init__(self):\n",
    "        # calcular um 'f' invertível\n",
    "        f = Q(0)\n",
    "        while not f.is_unit():\n",
    "            F = Q(vec()); f = 1 + p*F\n",
    "        # gerar as chaves\n",
    "        G = Q(vec()) ; g = p*G\n",
    "        self.f = f\n",
    "        self.h = f^(-1) * g\n",
    "        \n",
    "    def encrypt(self,m):\n",
    "        r = Q(vec()) \n",
    "        return r*self.h + Q(m)\n",
    "\n",
    "    def decrypt(self,e):\n",
    "        a = e*self.f\n",
    "        return prnd(qrnd(a))\n"
   ]
  },
  {
   "cell_type": "markdown",
   "metadata": {},
   "source": [
    "### Teste"
   ]
  },
  {
   "cell_type": "code",
   "execution_count": 5,
   "metadata": {},
   "outputs": [
    {
     "data": {
      "text/plain": [
       "False"
      ]
     },
     "execution_count": 5,
     "metadata": {},
     "output_type": "execute_result"
    }
   ],
   "source": [
    "# Uma instância NTRU\n",
    "K = NTRU() \n",
    "# Uma mensagem aleatória\n",
    "m = vec()\n",
    "# Cifrar\n",
    "e = K.encrypt(m)  \n",
    "# Decifrar e Verificar\n",
    "m == K.decrypt(e)\n"
   ]
  },
  {
   "cell_type": "markdown",
   "metadata": {
    "collapsed": true
   },
   "source": [
    "## Reticulado $L(h)$"
   ]
  },
  {
   "cell_type": "code",
   "execution_count": 6,
   "metadata": {},
   "outputs": [],
   "source": [
    "# Construção da matriz geradora por blocos\n",
    "import numpy as np\n",
    "import sage.modules.free_module_integer as fmi\n",
    "# http://doc.sagemath.org/html/en/reference/modules/sage/modules/free_module_integer.html\n",
    "\n",
    "class Lat(NTRU):\n",
    "    def __init__(self):\n",
    "        super(Lat,self).__init__()\n",
    "        B1 = identity_matrix(ZZ,N); Bq = q*B1; B0 = matrix(ZZ,N,N,[0]*(N^2))\n",
    "        h = qrnd(self.h)\n",
    "        # rodar um vetor\n",
    "        H = [h]\n",
    "        for k in range(N-1):\n",
    "            h = [h[-1]] + h[:-1]   # shift right rotate\n",
    "            H = H + [h]\n",
    "        H = matrix(ZZ,N,N,H)\n",
    "        #print block_matrix([[B1,H],[B0,Bq]])\n",
    "        self.L = fmi.IntegerLattice(block_matrix([[Bq,B0],[H,B1]]))"
   ]
  },
  {
   "cell_type": "code",
   "execution_count": 9,
   "metadata": {},
   "outputs": [
    {
     "name": "stdout",
     "output_type": "stream",
     "text": [
      "88\n",
      "171\n"
     ]
    }
   ],
   "source": [
    "m = vec()\n",
    "\n",
    "count = 0\n",
    "cvp_found = 0\n",
    "svp_found = 0\n",
    "while count < 10000:\n",
    "    count += 1\n",
    "    l = Lat()\n",
    "    m = vec()\n",
    "    e = l.encrypt(m)\n",
    "    \n",
    "    target = [0] * N + qrnd(Q(list(e)))\n",
    "    targetNeg = [-x for x in qrnd(Q(list(e)))]\n",
    "    targetNeg = [0] * N + targetNeg\n",
    "    \n",
    "    l1   = matrix(l.L.reduced_basis)\n",
    "    t    = matrix(1,2*N,targetNeg)\n",
    "    zero = matrix(2*N,1,[0]*(2*N))\n",
    "    M    = matrix(1,1,[q**2])\n",
    "    \n",
    "    L1 = block_matrix(2,2,[[l1,zero],[t,M]])\n",
    "    \n",
    "    Lred = fmi.IntegerLattice(L1).reduced_basis\n",
    "    \n",
    "    svp = np.array(Lred[0][:-1])\n",
    "    a = e*(1 + p*Q(list(svp[:N])))\n",
    "    if m == prnd(qrnd(a)):\n",
    "        svp_found += 1\n",
    "    err1 = np.array(Lred[2*N][:-1])\n",
    "    y1 = err1 + target\n",
    "    if m == prnd(list(y1)[N:]):\n",
    "        cvp_found += 1\n",
    "print cvp_found\n",
    "print svp_found"
   ]
  },
  {
   "cell_type": "code",
   "execution_count": null,
   "metadata": {},
   "outputs": [],
   "source": []
  }
 ],
 "metadata": {
  "kernelspec": {
   "display_name": "SageMath 8.6",
   "language": "",
   "name": "sagemath"
  },
  "language_info": {
   "codemirror_mode": {
    "name": "ipython",
    "version": 2
   },
   "file_extension": ".py",
   "mimetype": "text/x-python",
   "name": "python",
   "nbconvert_exporter": "python",
   "pygments_lexer": "ipython2",
   "version": "2.7.15"
  }
 },
 "nbformat": 4,
 "nbformat_minor": 2
}
