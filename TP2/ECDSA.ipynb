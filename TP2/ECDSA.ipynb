{
 "cells": [
  {
   "cell_type": "markdown",
   "metadata": {},
   "source": [
    "# Função de Hash\n",
    "\n",
    "Para implementar o ECDSA, é necessário recorrer a uma função criptográfica de *hash*. Como tal, utilizou-se o algoritmo `SHA256` da biblioteca `hashlib` como exemplo de uma função de *hash*, tendo-se criado uma função auxiliar para simplificar a leitura."
   ]
  },
  {
   "cell_type": "code",
   "execution_count": 1,
   "metadata": {},
   "outputs": [],
   "source": [
    "import hashlib\n",
    "\n",
    "def sha256(payload):\n",
    "    return hashlib.sha256(payload).hexdigest()"
   ]
  },
  {
   "cell_type": "markdown",
   "metadata": {},
   "source": [
    "# Curva Elíptica\n",
    "\n",
    "Para este exemplo, recorrer-se-á à curva elíptica `P-256 = y2 = x3 −3x + b`. Para tal, são definidos um conjunto de parâmetros que serão utilizados na construção da curva:\n",
    "+ Um primo `p`\n",
    "+ A ordem da curva `n`.\n",
    "+ Um valor `seed` que servirá para a inicialização da pseudoaleatoriedade na escolha de elementos da curva.\n",
    "+ `c`\n",
    "+ Um termo independente da curva `b`.\n",
    "+ Um ponto base da curva `G`, separado em dois valores, a abcissa `Gx` e a ordenada `Gy`."
   ]
  },
  {
   "cell_type": "code",
   "execution_count": 2,
   "metadata": {},
   "outputs": [],
   "source": [
    "NIST['P-256'] =  {\n",
    "    'p': 115792089210356248762697446949407573530086143415290314195533631308867097853951,\n",
    "    'n': 115792089210356248762697446949407573529996955224135760342422259061068512044369 ,\n",
    "    'seed' : 'c49d360886e704936a6678e1139d26b7819f7e90',\n",
    "    'c': '7efba1662985be9403cb055c75d4f7e0ce8d84a9c5114abcaf3177680104fa0d',\n",
    "    'b': '5ac635d8aa3a93e7b3ebbd55769886bc651d06b0cc53b0f63bce3c3e27d2604b',\n",
    "    'Gx' : '6b17d1f2e12c4247f8bce6e563a440f277037d812deb33a0f4a13945d898c296',\n",
    "    'Gy' : '4fe342e2fe1a7f9b8ee7eb4a7c0f9e162bce33576b315ececbb6406837bf51f5'\n",
    "}\n",
    "\n",
    "USED_NONCES = []"
   ]
  },
  {
   "cell_type": "markdown",
   "metadata": {},
   "source": [
    "# Classe que implementa o ECDSA\n",
    "\n",
    "## Inicialização\n",
    "\n",
    "Ao ser chamada, a classe ECDSA não recebe parâmetros, recorrendo exclusivamente ao carregamento da curva explicitada. Como tal, implementa-se uma função auxiliar `setup` que efetua os cálculos necessários das variáveis da classe, retornando apenas a informação indispensável. Deste modo, as variáveis da classe são:\n",
    "+ A instância da curva elíptica `E`.\n",
    "+ O quoficiente do tamanho da curva `q`.\n",
    "+ A ordem da curva `N`.\n",
    "+ O ponto base da curva `G`.\n",
    "\n",
    "## Geração do par de chaves\n",
    "\n",
    "Quando necessário, é possível gerar um novo par de chaves recorrendo à função `gen_key_pair`. Esta gera um valor pseudoaleatório `d ∈ [0, n - 1]` que é utilizado como chave privada do esquema. Com esta e o ponto base, deriva-se a chave pública `Q`, calculando um ponto da curva correspondente.\n",
    "\n",
    "## Assinatura de mensagens\n",
    "\n",
    "Utilizando uma chave privada ECDSA `d`, é possível assinar uma mensagem `m` para posterior envio, com o intuito de assegurar a identidade do assinante. A função `sign` da classe segue o seguinte processo:\n",
    "1. É gerado o valor de *hash* da mensagem a assinar `m' = HASH(m)`\n",
    "2. É gerado um valor `k ∈ [0, q - 1]` que não poderá ter sido utilizado anteriormente pela instância da classe `ECDSA`.\n",
    "3. É calculado o par de valores `r` e `s` que constituem a assinatura através do valor `k`, do ponto base `G` e a ordem da curva `N`.\n",
    "4. É armazenado o valor `k` para que não seja de novo utilizado, protegendo o esquema de ataques.\n",
    "\n",
    "## Verificação de mensagens\n",
    "\n",
    "Ao receber uma mensagem assinada `m`, a assinatura `(r,s)` pode ser verificada recorrendo à chave pública correspondente ao assinante. Para tal, é efetuado o seguinte processo:\n",
    "1. É gerado o valor de *hash* da mensagem recebida `m' = HASH(m)`\n",
    "2. É calculado o valor `w`, módulo do inverso de `s`.\n",
    "3. São calculados os valores `ri` e `mi`, multiplicando `w` por `r` e por `m`, respetivamente.\n",
    "4. É calculado o valor da assinatura da mensagem recebida `r' = mi*G + ri*G (mod N)`\n",
    "5. Verifica-se que `r'` é igual a `r`. Se tal for, a assinatura recebida considera-se válida."
   ]
  },
  {
   "cell_type": "code",
   "execution_count": 3,
   "metadata": {},
   "outputs": [],
   "source": [
    "class ECDSA:\n",
    "    def __init__(self):\n",
    "        self.E, self.q, self.N, self.G = self.setup()\n",
    "        \n",
    "    def setup(self):\n",
    "        c = NIST['P-256']\n",
    "        p  = c['p'] \n",
    "        n  = c['n']\n",
    "        b  = ZZ(c['b'],16)\n",
    "        Gx = ZZ(c['Gx'],16)\n",
    "        Gy = ZZ(c['Gy'],16)\n",
    "        E = EllipticCurve(GF(p),[-3,b])\n",
    "        q = E.order()\n",
    "        N = GF(q) # Zq\n",
    "        G = E((Gx,Gy))\n",
    "        return E, q, N, G\n",
    "    \n",
    "    def gen_key_pair(self):\n",
    "        d = ZZ(self.N.random_element()) # private key\n",
    "        Q = d*self.G                    # public key\n",
    "        return d, Q\n",
    "    \n",
    "    def sign(self, m, d):\n",
    "        r = 0; s = 0; N = self.N; G = self.G; q = self.q\n",
    "        m = ZZ(sha256(message),16)\n",
    "        while r == s == 0:\n",
    "            k = ZZ.random_element(1, q)\n",
    "            if not k in USED_NONCES:\n",
    "                r = N((k*G).xy()[0])\n",
    "                s = N((m+d*r)/N(k))\n",
    "            USED_NONCES.append(k)\n",
    "        return r, s\n",
    "    \n",
    "    def verify(self, m, r, s, Q):\n",
    "        m = ZZ(sha256(message),16)\n",
    "        w = 1/s\n",
    "        ri = ZZ(r*w)\n",
    "        mi = ZZ(m*w)\n",
    "        if r == self.N((mi*self.G + ri*Q).xy()[0]):\n",
    "            print 'Valid signature'\n",
    "        else:\n",
    "            print 'Invalid signature'"
   ]
  },
  {
   "cell_type": "markdown",
   "metadata": {},
   "source": [
    "# Exemplo de utilização"
   ]
  },
  {
   "cell_type": "code",
   "execution_count": 4,
   "metadata": {},
   "outputs": [
    {
     "name": "stdout",
     "output_type": "stream",
     "text": [
      "Valid signature\n"
     ]
    }
   ],
   "source": [
    "ecdsa = ECDSA()\n",
    "\n",
    "# Generate key pair\n",
    "private_key, public_key = ecdsa.gen_key_pair()\n",
    "\n",
    "# Message\n",
    "message = \"exemplo de uma mensagem!\"\n",
    "\n",
    "# Sign\n",
    "ephemeral_key, signature = ecdsa.sign(message, private_key)\n",
    "\n",
    "# Verify\n",
    "ecdsa.verify(message, ephemeral_key, signature, public_key)"
   ]
  }
 ],
 "metadata": {
  "kernelspec": {
   "display_name": "SageMath 8.6",
   "language": "",
   "name": "sagemath"
  },
  "language_info": {
   "codemirror_mode": {
    "name": "ipython",
    "version": 2
   },
   "file_extension": ".py",
   "mimetype": "text/x-python",
   "name": "python",
   "nbconvert_exporter": "python",
   "pygments_lexer": "ipython2",
   "version": "2.7.15"
  }
 },
 "nbformat": 4,
 "nbformat_minor": 2
}
