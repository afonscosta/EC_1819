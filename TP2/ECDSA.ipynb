{
 "cells": [
  {
   "cell_type": "markdown",
   "metadata": {},
   "source": [
    "# Curva Elíptica"
   ]
  },
  {
   "cell_type": "code",
   "execution_count": 343,
   "metadata": {},
   "outputs": [],
   "source": [
    "NIST = dict()\n",
    "NIST['P-192'] =  {\n",
    "    'p': 6277101735386680763835789423207666416083908700390324961279,\n",
    "    'n': 6277101735386680763835789423176059013767194773182842284081,\n",
    "    'seed' : '3045ae6fc8422f64ed579528d38120eae12196d5',\n",
    "    'c': '3099d2bbbfcb2538542dcd5fb078b6ef5f3d6fe2c745de65',\n",
    "    'b': '64210519e59c80e70fa7e9ab72243049feb8deecc146b9b1',\n",
    "    'Gx' : '188da80eb03090f67cbf20eb43a18800f4ff0afd82ff1012',\n",
    "    'Gy' : '07192b95ffc8da78631011ed6b24cdd573f977a11e794811'\n",
    "}\n",
    "\n",
    "USED_NONCES = []"
   ]
  },
  {
   "cell_type": "markdown",
   "metadata": {},
   "source": [
    "# Classe que implementa o ECDSA"
   ]
  },
  {
   "cell_type": "code",
   "execution_count": 344,
   "metadata": {},
   "outputs": [],
   "source": [
    "class ECDSA:\n",
    "    def __init__(self):\n",
    "        self = self.setup()\n",
    "        \n",
    "    def setup(self):\n",
    "        c = NIST['P-192']\n",
    "        p  = c['p'] \n",
    "        n  = c['n']\n",
    "        b  = ZZ(c['b'],16)\n",
    "        Gx = ZZ(c['Gx'],16)\n",
    "        Gy = ZZ(c['Gy'],16)\n",
    "        self.E = EllipticCurve(GF(p),[-3,b])\n",
    "        self.q = E.order()\n",
    "        self.N = GF(q) # Zq\n",
    "        self.G = E((Gx,Gy))\n",
    "        return self\n",
    "    \n",
    "    def gen_key_pair(self):\n",
    "        d = ZZ(self.N.random_element()) # private key\n",
    "        Q = d*self.G                    # public key\n",
    "        return d, Q\n",
    "    \n",
    "    def sign(self, m, d):\n",
    "        r = 0; s = 0\n",
    "        while r == s == 0:\n",
    "            k = ZZ.random_element(1, self.q)\n",
    "            if not k in USED_NONCES:\n",
    "                r = N((k*self.G).xy()[0])\n",
    "                s = N((m+d*r)/N(k))\n",
    "            USED_NONCES.append(k)\n",
    "        return r, s\n",
    "    \n",
    "    def verify(self, m, r, s, Q):\n",
    "        w = 1/s\n",
    "        ri = ZZ(r*w)\n",
    "        mi = ZZ(m*w)\n",
    "        if r == N((mi*self.G + ri*Q).xy()[0]):\n",
    "            print 'Valid signature'\n",
    "        else:\n",
    "            print 'Invalid signature'"
   ]
  },
  {
   "cell_type": "markdown",
   "metadata": {},
   "source": [
    "# Exemplo de utilização"
   ]
  },
  {
   "cell_type": "code",
   "execution_count": 349,
   "metadata": {},
   "outputs": [
    {
     "name": "stdout",
     "output_type": "stream",
     "text": [
      "Valid signature\n"
     ]
    }
   ],
   "source": [
    "ecdsa = ECDSA()\n",
    "\n",
    "# Generate key pair\n",
    "private_key, public_key = ecdsa.gen_key_pair()\n",
    "\n",
    "# Message\n",
    "message = ZZ(N.random_element()) # HASH?\n",
    "\n",
    "# Sign\n",
    "ephemeral_key, signature = ecdsa.sign(message, private_key)\n",
    "\n",
    "# Verify\n",
    "ecdsa.verify(message, ephemeral_key, signature, public_key)"
   ]
  }
 ],
 "metadata": {
  "kernelspec": {
   "display_name": "SageMath 8.6",
   "language": "",
   "name": "sagemath"
  },
  "language_info": {
   "codemirror_mode": {
    "name": "ipython",
    "version": 2
   },
   "file_extension": ".py",
   "mimetype": "text/x-python",
   "name": "python",
   "nbconvert_exporter": "python",
   "pygments_lexer": "ipython2",
   "version": "2.7.15"
  }
 },
 "nbformat": 4,
 "nbformat_minor": 2
}
