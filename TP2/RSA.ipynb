{
 "cells": [
  {
   "cell_type": "markdown",
   "metadata": {},
   "source": [
    "# Classe RSA\n",
    "\n",
    "Foi implementada uma classe que permite a gera"
   ]
  },
  {
   "cell_type": "code",
   "execution_count": 24,
   "metadata": {},
   "outputs": [],
   "source": [
    "from sage.cpython.string import bytes_to_str, str_to_bytes\n",
    "import hashlib\n",
    "\n",
    "class RSA:\n",
    "    def __init__(self, N):\n",
    "        \n",
    "        self.N = N\n",
    "        self.G = IntegerModRing(N)\n",
    "\n",
    "        p = random_prime(2**N-1,True,2**(N-1))\n",
    "        q = random_prime(2**N-1,True,2**(N-1))\n",
    "        while p == q:\n",
    "            q = random_prime(2**N-1,True,2**(N-1))\n",
    "        \n",
    "        phi = (p - 1) * (q - 1)\n",
    "        \n",
    "        R = IntegerModRing(phi)\n",
    "        self.pub = R(random_prime(2**N-1,True,2**(N-1)))\n",
    "        self.priv = 1/self.pub\n",
    "        \n",
    "        #fd = open(\"priv_file\",\"wb\"); fd.write(self.priv); fd.close()\n",
    "    \n",
    "        #fd = open(\"pub_file\",\"wb\"); fd.write(self.pub); fd.close()\n",
    "    \n",
    "        \n",
    "    def encrypt(self, msg):\n",
    "        #bytes = str_to_bytes(msg)\n",
    "        #ctxt = \"\"\n",
    "        #\n",
    "        #while len(bytes) > self.N:\n",
    "        #    nextInt = int(bytes[:N])\n",
    "        #    ctxt.join(self.G(nextInt)**self.priv)\n",
    "        #    bytes = bytes[N:]\n",
    "        #\n",
    "        #ctxt.join(self.G(int(bytes))**self.priv)\n",
    "        #\n",
    "        #padding = str_to_bytes(\"0\" * N)\n",
    "        #ctxt.join(padding)\n",
    "        pub = self.pub\n",
    "        ctxt = \"\"\n",
    "        \n",
    "        for i in msg:\n",
    "            x = ord(i)\n",
    "            ctxt.append(self.G(x)**pub)\n",
    "        \n",
    "        return ctxt\n",
    "    \n",
    "    \n",
    "    def decrypt(self, crypto):\n",
    "        ptxt = \"\"\n",
    "        ctxt = crypto[:len(crypto) - size]\n",
    "        \n",
    "        while len(ctxt) > self.size:\n",
    "            ptxt.append(ctxt[:size]**self.pub)\n",
    "            ctxt = ctxt[size:]\n",
    "            \n",
    "        ptxt.append(ctxt[:size]**self.pub)\n",
    "        \n",
    "        msg = bytes_to_str(ptxt)\n",
    "        \n",
    "        #priv = self.priv\n",
    "        #msg = \"\"\n",
    "        \n",
    "        #for i in crypto:\n",
    "        #    x = chr(self.G(i)**priv)\n",
    "        #    msg.join(x)\n",
    "        \n",
    "        return msg\n",
    "    \n",
    "    \n",
    "    def sign(self, msg):\n",
    "        \n",
    "        hashval = int(hashlib.sha256(msg).hexdigest(), 16)\n",
    "        \n",
    "        signature = self.G(hashval)**self.priv\n",
    "        \n",
    "        return signature\n",
    "    \n",
    "    \n",
    "    def verify(self, crypto, sign):\n",
    "        \n",
    "        hashval = int(hashlib.sha256(crypto).hexdigest(), 16)\n",
    "        \n",
    "        signature = sign**self.pub\n",
    "        \n",
    "        return hashval == signature"
   ]
  },
  {
   "cell_type": "markdown",
   "metadata": {},
   "source": [
    "# SETUP"
   ]
  },
  {
   "cell_type": "code",
   "execution_count": 25,
   "metadata": {},
   "outputs": [
    {
     "name": "stdout",
     "output_type": "stream",
     "text": [
      "12719370093706679503050446900002565721761175123938024354537340753747157380965599943397597243511018376403175775186380743183699422462328392318886100212464247267197451515257897662980877347257974328442937273863790180996473915601128118868032922337745191800401428501915486659044534390044497343706657567102159027427488309720031364515149965328432428286974763758957885552237328113984847441149513565370299516335893365889923498151079710076673952063032415879584891850441448470329850742076716789178681231554688503418519062134784322328655912606858394319615544793327083546298291199857337628555802353023067161278265574133651219612971\n",
      "134844743596558376223526140361148435204630027387576348781838470182224475906705975506117805770864825935369013496209323628735998944082293490789714410067338483393926327022854352786805169893697060605172295742672469035311908941005567963015469836778290043224211295845229697800043287412338265121247797478904256204131\n"
     ]
    }
   ],
   "source": [
    "rsa = RSA(1024)\n",
    "\n",
    "print(rsa.priv)\n",
    "\n",
    "print(rsa.pub)"
   ]
  },
  {
   "cell_type": "markdown",
   "metadata": {},
   "source": [
    "# http://www.muppetlabs.com/~breadbox/txt/rsa.html"
   ]
  },
  {
   "cell_type": "code",
   "execution_count": 26,
   "metadata": {
    "scrolled": true
   },
   "outputs": [
    {
     "name": "stdout",
     "output_type": "stream",
     "text": [
      "sign = 811\n",
      "False\n"
     ]
    }
   ],
   "source": [
    "#\n",
    "msg = \"Mensagem\"\n",
    "\n",
    "#ctxt = rsa.encrypt(msg)\n",
    "\n",
    "#print(ctxt)\n",
    "\n",
    "#ptxt = rsa.decrypt(ctxt)\n",
    "\n",
    "#print(\"ptxt = \" + ptxt)\n",
    "\n",
    "sign = rsa.sign(msg)\n",
    "\n",
    "print(\"sign = \" + str(sign))\n",
    "\n",
    "verify = rsa.verify(msg, sign)\n",
    "\n",
    "print(verify)"
   ]
  },
  {
   "cell_type": "code",
   "execution_count": null,
   "metadata": {},
   "outputs": [],
   "source": []
  }
 ],
 "metadata": {
  "kernelspec": {
   "display_name": "SageMath 8.6",
   "language": "",
   "name": "sagemath"
  },
  "language_info": {
   "codemirror_mode": {
    "name": "ipython",
    "version": 2
   },
   "file_extension": ".py",
   "mimetype": "text/x-python",
   "name": "python",
   "nbconvert_exporter": "python",
   "pygments_lexer": "ipython2",
   "version": "2.7.15"
  }
 },
 "nbformat": 4,
 "nbformat_minor": 2
}
