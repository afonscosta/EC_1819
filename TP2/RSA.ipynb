{
 "cells": [
  {
   "cell_type": "markdown",
   "metadata": {},
   "source": [
    "# Classe RSA\n",
    "\n",
    "Foi implementada uma classe que permite a geração de equemas RSA. Esta recebe necessariamente um valor como argumento, responsável por determinar o parâmetro de segurança. Com este, efetua-se a arit"
   ]
  },
  {
   "cell_type": "code",
   "execution_count": 1,
   "metadata": {},
   "outputs": [],
   "source": [
    "from sage.cpython.string import bytes_to_str, str_to_bytes\n",
    "import hashlib\n",
    "\n",
    "class RSA:\n",
    "    def __init__(self, size):\n",
    "\n",
    "        p = random_prime(2**size-1,True,2**(size-1))\n",
    "        q = random_prime(2**size-1,True,2**(size-1))\n",
    "        while p == q:\n",
    "            p = random_prime(2**size-1,True,2**(size-1))\n",
    "            q = random_prime(2**size-1,True,2**(size-1))\n",
    "        \n",
    "        self.N = p*q\n",
    "        phi = (p - 1) * (q - 1)\n",
    "        \n",
    "        G = IntegerModRing(phi)\n",
    "        self.pub = G.random_element(phi)\n",
    "        while gcd(self.pub, phi) != 1:\n",
    "            self.pub = G.random_element(phi)\n",
    "        \n",
    "        self.priv = 1/self.pub\n",
    "        \n",
    "        \n",
    "    def encrypt(self, msg):\n",
    "        pub = self.pub\n",
    "        G = IntegerModRing(self.N)\n",
    "        ptxt = []\n",
    "        \n",
    "        for i in str.upper(msg):\n",
    "            x = ord(i)\n",
    "            ptxt.append(x)\n",
    "            \n",
    "        ptxtval = int(''.join(map(str, ptxt)))\n",
    "        \n",
    "        ctxt = G(ptxtval)**pub\n",
    "        \n",
    "        return ctxt\n",
    "    \n",
    "    \n",
    "    def decrypt(self, crypto):\n",
    "        priv = self.priv\n",
    "        msg = \"\"\n",
    "        \n",
    "        ptxt = crypto**priv\n",
    "        aux = str(ptxt)\n",
    "        \n",
    "        for i in xrange(0,len(aux)-1,2):\n",
    "            x = chr(int(aux[i] + aux[i+1]))\n",
    "            msg += x\n",
    "        \n",
    "        return str.lower(msg)\n",
    "    \n",
    "    \n",
    "    def sign(self, msg):\n",
    "        G = IntegerModRing(self.N)\n",
    "        \n",
    "        hashval = int(hashlib.sha256(str(msg)).hexdigest(), 16)\n",
    "        \n",
    "        signature = G(hashval)**self.priv\n",
    "        \n",
    "        return signature\n",
    "    \n",
    "    \n",
    "    def verify(self, crypto, sign):\n",
    "        \n",
    "        hashval = int(hashlib.sha256(str(crypto)).hexdigest(), 16)\n",
    "        \n",
    "        signature = sign**self.pub\n",
    "        \n",
    "        if hashval == signature:\n",
    "            print 'Valid signature'\n",
    "        else:\n",
    "            print 'Invalid signature'"
   ]
  },
  {
   "cell_type": "markdown",
   "metadata": {},
   "source": [
    "# SETUP"
   ]
  },
  {
   "cell_type": "code",
   "execution_count": 2,
   "metadata": {
    "scrolled": true
   },
   "outputs": [
    {
     "name": "stdout",
     "output_type": "stream",
     "text": [
      "ctxt = 5648755054659850258521323998661187630384445423406873283309245101886603830916772323617419932930463336449836733034787053103673564964264042039492529499551359497109064336501581161987644379179072571775584826836278318262309425580147186089489717108209969091716170892678424442968042572900808617713093917580785457966481264647548099640271947921088764076083147663666210372249292507643353175503423630077337577506166210595270739383676723170120709817742761458611284910103599095947540358708731714729046038619251960075656625838042131800151506296600165255006806067840847964153727810053473935159822881106223754049943567020571172816412\n",
      "\n",
      "ptxt = exemplo de uma mensagem!\n",
      "\n",
      "sign = 6518074407129416772277183091952507553174784844111078811868102041435390207251230316068276465875203598571780396382530799708998325068627492418749445186955100540068357897348369779153869085990087696969962792909958120758741873720861875509830199044822760474422168672424130598614064789698792060316348175082132297242211849712339697755403137761066729836970143483970219453333477003587641251109673824119084045921732024668337097451702859132955976932346406053899391724234663549472227892971383830122850189689040259912372309156811573502001493904453332274407809143921475920488825317814538245521356116650139979725138780808149048153589\n",
      "\n",
      "Valid signature\n"
     ]
    }
   ],
   "source": [
    "# Initialise class and generate key pair\n",
    "rsa = RSA(1024)\n",
    "\n",
    "# Message\n",
    "msg = \"exemplo de uma mensagem!\"\n",
    "\n",
    "# Encrypt\n",
    "ctxt = rsa.encrypt(msg)\n",
    "\n",
    "print(\"ctxt = \" + str(ctxt))\n",
    "\n",
    "# Decrypt\n",
    "ptxt = rsa.decrypt(ctxt)\n",
    "\n",
    "print(\"\\nptxt = \" + ptxt)\n",
    "\n",
    "# Sign\n",
    "sign = rsa.sign(ctxt)\n",
    "\n",
    "print(\"\\nsign = \" + str(sign) + \"\\n\")\n",
    "\n",
    "# Verify\n",
    "rsa.verify(ctxt, sign)"
   ]
  },
  {
   "cell_type": "code",
   "execution_count": null,
   "metadata": {},
   "outputs": [],
   "source": []
  }
 ],
 "metadata": {
  "kernelspec": {
   "display_name": "SageMath 8.6",
   "language": "",
   "name": "sagemath"
  },
  "language_info": {
   "codemirror_mode": {
    "name": "ipython",
    "version": 2
   },
   "file_extension": ".py",
   "mimetype": "text/x-python",
   "name": "python",
   "nbconvert_exporter": "python",
   "pygments_lexer": "ipython2",
   "version": "2.7.15"
  }
 },
 "nbformat": 4,
 "nbformat_minor": 2
}
