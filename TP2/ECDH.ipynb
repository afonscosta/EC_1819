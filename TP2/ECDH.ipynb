{
 "cells": [
  {
   "cell_type": "markdown",
   "metadata": {},
   "source": [
    "# Classe ECDH\n",
    "A classe ECDH tem como objetivo encapsular o comportamento/dados necessários para implementar o método Diffie-Hellman de troca de chaves. Para tal, são utilizadas as seguintes variáveis:\n",
    "\n",
    "- `n`: dimensão do corpo base K\n",
    "- `p = 2`: parâmetro fixo e igual a 2, utilizado na geração de um corpo finito binário.\n",
    "- `q = p^n`: ordem do corpo finito binário.\n",
    "- `K = GF(q)`: corpo finito binário.\n",
    "\n",
    "As restantes variáveis `b` e `G` são inicializadas através da função `setup`, utilizando o seguinte algoritmo:\n",
    "\n",
    "1. Gera-se aleatoriamente o parâmetro `b`.\n",
    "2. Gera-se a curva elíptica `E` através do corpo base `K` e do polinómio representado pelos coeficientes [1,1,0,0,b].\n",
    "3. Calcula-se a ordem da curva (`order_E`).\n",
    "4. Calcula-se os fatores primos de `order_E`.\n",
    "5. Caso o maior fator primo seja menor que 2^(n-1), voltar ao ponto 1.\n",
    "6. Gerar um ponto aleatório (`Q`) da curva elíptica `E`.\n",
    "7. Calcular a sua ordem (`order_Q`).\n",
    "8. Se `order_Q` for menor que `order_E`, então volta-se ao ponto 6.\n",
    "9. Se `order_Q` não for múltiplo de `order_E`, então volta-se ao ponto 6.\n",
    "10. Calcular o ponto gerador `G` através do ponto `Q`.\n",
    "11. Retornar o `b` e o `Q`.\n",
    "\n",
    "Desta forma, dá-se por terminada a fase de setup de todos os parâmetros necessários para a execução do ECDH. \n",
    "\n",
    "Além disso, a classe oferece ainda duas funções: `gen_key_pair` e `gen_shared_key`. \n",
    "\n",
    "A primeira é responsável por gerar as chaves privada ae pública que serão usadas mais adiante. A chave privada é gerada aleatoriamente do conjunto multiplicativo de Zn. De seguida, calcula-se a chave pública através da multiplicação da chave privada pelo gerador `G`.\n",
    "\n",
    "Por fim, a função `gen_shared_key` calcula a chave partilhada através da multiplicação da chave privada pela chave pública (ambas recebidas por argumento)."
   ]
  },
  {
   "cell_type": "code",
   "execution_count": 1,
   "metadata": {},
   "outputs": [],
   "source": [
    "class ECDH:\n",
    "    def __init__(self, n):\n",
    "        self.n = n\n",
    "        self.p = 2\n",
    "        self.q = self.p^n\n",
    "        self.K = GF(self.q)\n",
    "        self.b, self.G = self.setup()\n",
    "\n",
    "    def setup(self):\n",
    "        isGenerator = False\n",
    "        while true:\n",
    "            b = self.K.random_element()\n",
    "\n",
    "            E = EllipticCurve(self.K, [1,1,0,0,b])\n",
    "            order_E = E.order()\n",
    "            prime_factors = [ f for (f,_) in factor(order_E) ]\n",
    "            highest_prime_factor = prime_factors[-1]\n",
    "\n",
    "            if highest_prime_factor >= 2^(self.n - 1):\n",
    "\n",
    "                for i in range(0, 1000):\n",
    "                    Q = E.random_element()\n",
    "                    order_Q = Q.order()\n",
    "                    \n",
    "                    if order_Q >= highest_prime_factor and \\\n",
    "                       order_Q % highest_prime_factor == 0:\n",
    "                        isGenerator = True\n",
    "                        break\n",
    "                        \n",
    "                if isGenerator:\n",
    "                    G = (order_E//highest_prime_factor) * Q\n",
    "                    break\n",
    "        return b, G\n",
    "\n",
    "    def gen_key_pair(self):\n",
    "        N = self.G.order()\n",
    "        private_key = ZZ.random_element(1, N)\n",
    "        public_key = private_key * self.G\n",
    "        return private_key, public_key\n",
    "    \n",
    "    def gen_shared_key(self, private_key, peer_public_key):\n",
    "        return private_key * peer_public_key"
   ]
  },
  {
   "cell_type": "markdown",
   "metadata": {},
   "source": [
    "# Setup\n",
    "\n",
    "Nesta fase é realizado o *setup* do ECDH como descrito anteriormente. De facto, esta componente encontra-se separada do resto do exemplo de utilização uma vez que pode ser reutilizada em diferentes execuções."
   ]
  },
  {
   "cell_type": "code",
   "execution_count": 2,
   "metadata": {},
   "outputs": [],
   "source": [
    "ecdh = ECDH(163)"
   ]
  },
  {
   "cell_type": "markdown",
   "metadata": {},
   "source": [
    "# Exemplo de utilização da classe ECDH\n",
    "\n",
    "Primeiramente são gerados os pares de chaves para o agente A e B. De seguida, apesar de não ser explícito deve existir uma troca de chaves públicas entre o A e o B. Posteriormente, cada um dos agentes utiliza a sua chave privada e a chave pública recebida para gerar a chave partilhada. Por fim, o teste `A_shared_key == B_shared_key` dando verdadeiro confirma que ambos os agentes obtiveram o mesmo segredo, ou seja, o ECDH foi realizado com sucesso."
   ]
  },
  {
   "cell_type": "code",
   "execution_count": 3,
   "metadata": {},
   "outputs": [
    {
     "name": "stdout",
     "output_type": "stream",
     "text": [
      "True\n"
     ]
    }
   ],
   "source": [
    "A_private_key, A_public_key = ecdh.gen_key_pair()\n",
    "B_private_key, B_public_key = ecdh.gen_key_pair()\n",
    "\n",
    "A_shared_key = ecdh.gen_shared_key(A_private_key, B_public_key)\n",
    "B_shared_key = ecdh.gen_shared_key(B_private_key, A_public_key)\n",
    "\n",
    "print A_shared_key == B_shared_key"
   ]
  }
 ],
 "metadata": {
  "kernelspec": {
   "display_name": "SageMath 8.6",
   "language": "",
   "name": "sagemath"
  },
  "language_info": {
   "codemirror_mode": {
    "name": "ipython",
    "version": 2
   },
   "file_extension": ".py",
   "mimetype": "text/x-python",
   "name": "python",
   "nbconvert_exporter": "python",
   "pygments_lexer": "ipython2",
   "version": "2.7.15"
  }
 },
 "nbformat": 4,
 "nbformat_minor": 2
}
