{
 "cells": [
  {
   "cell_type": "markdown",
   "metadata": {},
   "source": [
    "# Classe ECDH"
   ]
  },
  {
   "cell_type": "code",
   "execution_count": 8,
   "metadata": {},
   "outputs": [],
   "source": [
    "class ECDH:\n",
    "    def __init__(self, n):\n",
    "        self.n = n\n",
    "        self.p = 2\n",
    "        self.q = self.p^n\n",
    "        self.K = GF(self.q)\n",
    "        self.b, self.G = self.setup()\n",
    "\n",
    "    def setup(self):\n",
    "        isGenerator = False\n",
    "        while true:\n",
    "            b = self.K(ZZ.random_element(1, self.q).digits(base=self.p))\n",
    "\n",
    "            E = EllipticCurve(self.K, [1,1,0,0,b])\n",
    "            order = E.order()\n",
    "            prime_factors = [ f for (f,_) in factor(order) ]\n",
    "            highest_prime_factor = prime_factors[-1]\n",
    "\n",
    "            if highest_prime_factor >= 2^(self.n - 1):\n",
    "\n",
    "                for i in range(0, 1000):\n",
    "                    Q = E.random_element()\n",
    "\n",
    "                    for pf in prime_factors:\n",
    "                        if pf * Q == E(0):\n",
    "                            break\n",
    "                    if pf == highest_prime_factor:\n",
    "                        isGenerator = True\n",
    "                        break\n",
    "                if isGenerator:\n",
    "                    G = (order//highest_prime_factor) * Q\n",
    "                    break\n",
    "        return b, G\n",
    "\n",
    "    def gen_key_pair(self):\n",
    "        N = self.G.order()\n",
    "        private_key = ZZ.random_element(1, N)\n",
    "        public_key = private_key * self.G\n",
    "        return private_key, public_key\n",
    "    \n",
    "    def gen_shared_key(self, private_key, peer_public_key):\n",
    "        return private_key * peer_public_key"
   ]
  },
  {
   "cell_type": "markdown",
   "metadata": {},
   "source": [
    "# Setup"
   ]
  },
  {
   "cell_type": "code",
   "execution_count": 9,
   "metadata": {},
   "outputs": [],
   "source": [
    "ecdh = ECDH(163)"
   ]
  },
  {
   "cell_type": "markdown",
   "metadata": {},
   "source": [
    "# Geração do segredo partilhado"
   ]
  },
  {
   "cell_type": "code",
   "execution_count": 10,
   "metadata": {},
   "outputs": [
    {
     "name": "stdout",
     "output_type": "stream",
     "text": [
      "True\n"
     ]
    }
   ],
   "source": [
    "A_private_key, A_public_key = ecdh.gen_key_pair()\n",
    "B_private_key, B_public_key = ecdh.gen_key_pair()\n",
    "\n",
    "A_shared_key = ecdh.gen_shared_key(A_private_key, B_public_key)\n",
    "B_shared_key = ecdh.gen_shared_key(B_private_key, A_public_key)\n",
    "\n",
    "print A_shared_key == B_shared_key"
   ]
  }
 ],
 "metadata": {
  "kernelspec": {
   "display_name": "SageMath 8.6",
   "language": "",
   "name": "sagemath"
  },
  "language_info": {
   "codemirror_mode": {
    "name": "ipython",
    "version": 2
   },
   "file_extension": ".py",
   "mimetype": "text/x-python",
   "name": "python",
   "nbconvert_exporter": "python",
   "pygments_lexer": "ipython2",
   "version": "2.7.15"
  }
 },
 "nbformat": 4,
 "nbformat_minor": 2
}
