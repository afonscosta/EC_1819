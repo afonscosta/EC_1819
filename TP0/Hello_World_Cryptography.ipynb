{
 "cells": [
  {
   "cell_type": "markdown",
   "metadata": {},
   "source": [
    "# Função responsável por gerar a chave através de uma password\n",
    "\n",
    "A geração da chave é realizada com recurso a uma **KDF**, nomeadamente, a `PBKDF2HMAC`, que se encontra disponível no módulo **Cryptography**."
   ]
  },
  {
   "cell_type": "code",
   "execution_count": 1,
   "metadata": {},
   "outputs": [],
   "source": [
    "import os\n",
    "from cryptography.hazmat.primitives.kdf.pbkdf2 import PBKDF2HMAC\n",
    "from cryptography.hazmat.backends import default_backend\n",
    "from cryptography.hazmat.primitives import hashes, hmac\n",
    "\n",
    "def generate_key(password, salt=os.urandom(16)):\n",
    "    backend = default_backend()\n",
    "    \n",
    "    kdf = PBKDF2HMAC(\n",
    "        algorithm=hashes.SHA256(),\n",
    "        length=64,\n",
    "        salt=salt,\n",
    "        iterations=100000,\n",
    "        backend=backend\n",
    "    )\n",
    "\n",
    "    key = kdf.derive(password)\n",
    "\n",
    "    return key"
   ]
  },
  {
   "cell_type": "markdown",
   "metadata": {},
   "source": [
    "# Função responsável por gerar o MAC de um criptograma\n",
    "\n",
    "Para o efeito foi utilizado o `HMAC_SHA256` e a chave gerada para produzir um MAC que identifica unicamente o criptograma em questão. Por um lado, o emissor utiliza esta função para produzir o MAC que é enviado juntamente com o criptograma. Por outro lado, o recetor utiliza-a com o objetivo de verificar o MAC associado ao criptograma recebido e, consequentemente, verificar a integridade da mensagem."
   ]
  },
  {
   "cell_type": "code",
   "execution_count": 2,
   "metadata": {},
   "outputs": [],
   "source": [
    "def generate_mac(key, crypto):\n",
    "    h = hmac.HMAC(key, hashes.SHA256(), backend = default_backend())\n",
    "    h.update(crypto)\n",
    "    return h.finalize()"
   ]
  },
  {
   "cell_type": "markdown",
   "metadata": {},
   "source": [
    "# Função responsável por cifrar a mensagem a ser enviada\n",
    "\n",
    "Para cifrar a mensagem a ser enviada é utilizado a cifra simétrica **AES** no modo **GCM**. "
   ]
  },
  {
   "cell_type": "code",
   "execution_count": 3,
   "metadata": {},
   "outputs": [],
   "source": [
    "from cryptography.hazmat.primitives.ciphers import Cipher, algorithms, modes\n",
    "\n",
    "def encrypt(plaintext, key, associated_data=''):\n",
    "\n",
    "    # Generate a random 96-bit IV.\n",
    "    iv = os.urandom(12)\n",
    "    \n",
    "    # Construct an AES-GCM Cipher object with the given key and a randomly generated IV.\n",
    "    encryptor = Cipher(algorithms.AES(key[:32]), modes.GCM(iv), backend=default_backend()).encryptor()\n",
    "    \n",
    "    # associated_data will be authenticated but not encrypted, it must also be passed in on decryption.\n",
    "    encryptor.authenticate_additional_data(associated_data.encode())\n",
    "\n",
    "    # Encrypt the plaintext and get the associated ciphertext. GCM does not require padding.\n",
    "    ciphertext = encryptor.update(plaintext.encode()) + encryptor.finalize()\n",
    "\n",
    "    package = iv + encryptor.tag + ciphertext\n",
    "\n",
    "    hmac = generate_mac(key[32:], package)\n",
    "\n",
    "    return hmac + package"
   ]
  },
  {
   "cell_type": "markdown",
   "metadata": {},
   "source": [
    "# Função responsável por decifrar a mensagem recebida\n",
    "\n"
   ]
  },
  {
   "cell_type": "code",
   "execution_count": 4,
   "metadata": {},
   "outputs": [],
   "source": [
    "def decrypt(package, key, associated_data=''):\n",
    "    \n",
    "    hmac = package[:32]\n",
    "\n",
    "    macDest = generate_mac(key[32:], package[32:])\n",
    "\n",
    "    if (hmac != macDest):\n",
    "        return 'ERROR - MAC is not equal'\n",
    "\n",
    "    iv = package[32:44]\n",
    "\n",
    "    tag = package[44:60]\n",
    "\n",
    "    ciphertext = package[60:]\n",
    "    \n",
    "    # Construct a Cipher object, with the key, iv, and additionally the GCM tag used for authenticating the message.\n",
    "    decryptor = Cipher(algorithms.AES(key[:32]), modes.GCM(iv, tag), backend=default_backend()).decryptor()\n",
    "\n",
    "    # We put associated_data back in or the tag will fail to verify when we finalize the decryptor.\n",
    "    decryptor.authenticate_additional_data(associated_data.encode())\n",
    "\n",
    "    # Decryption gets us the authenticated plaintext. If the tag does not match \n",
    "    # an InvalidTag exception will be raised.\n",
    "    plaintext = decryptor.update(ciphertext) + decryptor.finalize()\n",
    "\n",
    "    return plaintext.decode()"
   ]
  },
  {
   "cell_type": "markdown",
   "metadata": {},
   "source": [
    "# Processos que permitem a comunicação privada assíncrona entre um agente Emitter e um agente Receiver"
   ]
  },
  {
   "cell_type": "code",
   "execution_count": 5,
   "metadata": {},
   "outputs": [
    {
     "name": "stdout",
     "output_type": "stream",
     "text": [
      "········\n",
      "Mensagem inicial: hello world\n",
      "Criptograma enviado: g1lH2DVYIXvEy8+Kn9VAtaqSsNY5L20cVUttEwlXm96ya+QMksxqhPZHYLJdtNuBlBBWO4Oj+D8HlsoZkpNhLh5d7+f2zJE=\n",
      "Criptograma recebido: g1lH2DVYIXvEy8+Kn9VAtaqSsNY5L20cVUttEwlXm96ya+QMksxqhPZHYLJdtNuBlBBWO4Oj+D8HlsoZkpNhLh5d7+f2zJE=\n",
      "Mensagem recebida: hello world\n"
     ]
    }
   ],
   "source": [
    "from multiprocessing import Process, Pipe\n",
    "from getpass import getpass\n",
    "from base64 import b64encode, b64decode\n",
    "import time\n",
    "\n",
    "def Alice(conn, key):\n",
    "    mess = 'hello world'\n",
    "    print('Mensagem inicial: ' + mess)\n",
    "    crypto = encrypt('hello world', key, 'message')\n",
    "    print('Criptograma enviado: ' + b64encode(crypto).decode())\n",
    "    conn.send(crypto)  # envia uma mensagem pelo seu lado do Pipe\n",
    "    conn.close()        # termina a ligação do seu lado do Pipe\n",
    "    \n",
    "def Bob(conn, key):\n",
    "    crypto = conn.recv()  # recebe a mensagem do seu lado do Pipe\n",
    "    print('Criptograma recebido: ' + b64encode(crypto).decode())\n",
    "    mess = decrypt(crypto, key, 'message')\n",
    "    print('Mensagem recebida: ' + mess)         # faz qualquer coisa com a informação recebida\n",
    "    conn.close()        # fecha a ligação do seu lado\n",
    "\n",
    "class BiConn(object):\n",
    "    def __init__(self,emitter,receiver, password,timeout=None):\n",
    "        \"\"\"\n",
    "        emitter : a função que vai ligar ao lado esquerdo do Pipe\n",
    "        receiver: a função que vai ligar ao outro lado\n",
    "        timeout: (opcional) numero de segundos que aguarda pela terminação do processo\n",
    "        \"\"\"\n",
    "        emitter_end, receiver_end = Pipe()\n",
    "        \n",
    "        self.timeout = timeout\n",
    "        self.key = generate_key(password.encode())  # geração da chave a partir da password\n",
    "        \n",
    "        self.eproc = Process(target=emitter, args=(emitter_end, self.key))       # os processos ligados ao Pipe\n",
    "        self.rproc = Process(target=receiver, args=(receiver_end, self.key))\n",
    "        \n",
    "        self.emitter  = lambda : emitter(emitter_end, self.key)                       # as funções ligadas já ao Pipe\n",
    "        self.receiver = lambda : receiver(receiver_end, self.key)\n",
    "    \n",
    "    def auto(self, proc=None):\n",
    "        if proc == None:             # corre os dois processos independentes\n",
    "            self.eproc.start()\n",
    "            self.rproc.start()\n",
    "            self.eproc.join(self.timeout)\n",
    "            self.rproc.join(self.timeout)\n",
    "        else:                        # corre só o processo passado como parâmetro\n",
    "            proc.start(); proc.join()\n",
    "    \n",
    "    def manual(self):   #  corre as duas funções no contexto de um mesmo processo Python\n",
    "        self.emitter()\n",
    "        self.receiver()\n",
    "    \n",
    "password = getpass()\n",
    "Conn = BiConn(Alice, Bob, password)\n",
    "Conn.auto()"
   ]
  }
 ],
 "metadata": {
  "kernelspec": {
   "display_name": "Python 3",
   "language": "python",
   "name": "python3"
  },
  "language_info": {
   "codemirror_mode": {
    "name": "ipython",
    "version": 3
   },
   "file_extension": ".py",
   "mimetype": "text/x-python",
   "name": "python",
   "nbconvert_exporter": "python",
   "pygments_lexer": "ipython3",
   "version": "3.7.2"
  }
 },
 "nbformat": 4,
 "nbformat_minor": 2
}
