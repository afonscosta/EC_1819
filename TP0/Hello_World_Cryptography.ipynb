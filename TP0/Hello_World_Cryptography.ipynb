{
 "cells": [
  {
   "cell_type": "markdown",
   "metadata": {},
   "source": [
    "# Função responsável por gerar a chave através de uma password\n",
    "\n",
    "A geração da chave é realizada com recurso a uma **KDF**, nomeadamente, a `PBKDF2HMAC`, que se encontra disponível no módulo **Cryptography**."
   ]
  },
  {
   "cell_type": "code",
   "execution_count": 1,
   "metadata": {},
   "outputs": [
    {
     "ename": "ImportError",
     "evalue": "No module named cryptography.hazmat.primitives.kdf.pbkdf2",
     "output_type": "error",
     "traceback": [
      "\u001b[0;31m---------------------------------------------------------------------------\u001b[0m",
      "\u001b[0;31mImportError\u001b[0m                               Traceback (most recent call last)",
      "\u001b[0;32m<ipython-input-1-8e97a9bb2345>\u001b[0m in \u001b[0;36m<module>\u001b[0;34m()\u001b[0m\n\u001b[1;32m      1\u001b[0m \u001b[0;32mimport\u001b[0m \u001b[0mos\u001b[0m\u001b[0;34m\u001b[0m\u001b[0m\n\u001b[0;32m----> 2\u001b[0;31m \u001b[0;32mfrom\u001b[0m \u001b[0mcryptography\u001b[0m\u001b[0;34m.\u001b[0m\u001b[0mhazmat\u001b[0m\u001b[0;34m.\u001b[0m\u001b[0mprimitives\u001b[0m\u001b[0;34m.\u001b[0m\u001b[0mkdf\u001b[0m\u001b[0;34m.\u001b[0m\u001b[0mpbkdf2\u001b[0m \u001b[0;32mimport\u001b[0m \u001b[0mPBKDF2HMAC\u001b[0m\u001b[0;34m\u001b[0m\u001b[0m\n\u001b[0m\u001b[1;32m      3\u001b[0m \u001b[0;32mfrom\u001b[0m \u001b[0mcryptography\u001b[0m\u001b[0;34m.\u001b[0m\u001b[0mhazmat\u001b[0m\u001b[0;34m.\u001b[0m\u001b[0mbackends\u001b[0m \u001b[0;32mimport\u001b[0m \u001b[0mdefault_backend\u001b[0m\u001b[0;34m\u001b[0m\u001b[0m\n\u001b[1;32m      4\u001b[0m \u001b[0;32mfrom\u001b[0m \u001b[0mcryptography\u001b[0m\u001b[0;34m.\u001b[0m\u001b[0mhazmat\u001b[0m\u001b[0;34m.\u001b[0m\u001b[0mprimitives\u001b[0m \u001b[0;32mimport\u001b[0m \u001b[0mhashes\u001b[0m\u001b[0;34m,\u001b[0m \u001b[0mhmac\u001b[0m\u001b[0;34m\u001b[0m\u001b[0m\n\u001b[1;32m      5\u001b[0m \u001b[0;34m\u001b[0m\u001b[0m\n",
      "\u001b[0;31mImportError\u001b[0m: No module named cryptography.hazmat.primitives.kdf.pbkdf2"
     ]
    }
   ],
   "source": [
    "import os\n",
    "from cryptography.hazmat.primitives.kdf.pbkdf2 import PBKDF2HMAC\n",
    "from cryptography.hazmat.backends import default_backend\n",
    "from cryptography.hazmat.primitives import hashes, hmac\n",
    "\n",
    "def generate_key(password, salt=os.urandom(16)):\n",
    "    backend = default_backend()\n",
    "    \n",
    "    kdf = PBKDF2HMAC(\n",
    "        algorithm=hashes.SHA256(),\n",
    "        length=64,\n",
    "        salt=salt,\n",
    "        iterations=100000,\n",
    "        backend=backend\n",
    "    )\n",
    "\n",
    "    key = kdf.derive(password)\n",
    "\n",
    "    return key"
   ]
  },
  {
   "cell_type": "markdown",
   "metadata": {},
   "source": [
    "# Função responsável por gerar o MAC de um criptograma\n",
    "\n",
    "Para o efeito foi utilizado o `HMAC_SHA256` e a chave gerada para produzir um MAC que identifica unicamente o criptograma em questão. Por um lado, o emissor utiliza esta função para produzir o MAC que é enviado juntamente com o criptograma. Por outro lado, o recetor utiliza-a com o objetivo de verificar o MAC associado ao criptograma recebido e, consequentemente, verificar a integridade da mensagem."
   ]
  },
  {
   "cell_type": "code",
   "execution_count": null,
   "metadata": {},
   "outputs": [],
   "source": [
    "def generate_mac(key, crypto):\n",
    "    h = hmac.HMAC(key, hashes.SHA256(), backend = default_backend())\n",
    "    h.update(crypto)\n",
    "    return h.finalize()"
   ]
  },
  {
   "cell_type": "markdown",
   "metadata": {},
   "source": [
    "# Função responsável por cifrar a mensagem a ser enviada\n",
    "\n",
    "Para cifrar a mensagem a ser enviada é utilizado a cifra simétrica **AES** no modo **GCM**. "
   ]
  },
  {
   "cell_type": "code",
   "execution_count": null,
   "metadata": {},
   "outputs": [],
   "source": [
    "from cryptography.hazmat.primitives.ciphers import Cipher, algorithms, modes\n",
    "\n",
    "def encrypt(plaintext, key, associated_data):\n",
    "\n",
    "    # Generate a random 96-bit IV.\n",
    "    iv = os.urandom(12)\n",
    "    \n",
    "    # Construct an AES-GCM Cipher object with the given key and a randomly generated IV.\n",
    "    encryptor = Cipher(algorithms.AES(key[:32]), modes.GCM(iv), backend=default_backend()).encryptor()\n",
    "    \n",
    "    # associated_data will be authenticated but not encrypted, it must also be passed in on decryption.\n",
    "    encryptor.authenticate_additional_data(associated_data)\n",
    "\n",
    "    # Encrypt the plaintext and get the associated ciphertext. GCM does not require padding.\n",
    "    ciphertext = encryptor.update(plaintext.encode()) + encryptor.finalize()\n",
    "\n",
    "    package = iv + encryptor.tag + ciphertext\n",
    "\n",
    "    hmac = generate_mac(key[32:], package)\n",
    "\n",
    "    return hmac + package"
   ]
  },
  {
   "cell_type": "markdown",
   "metadata": {},
   "source": [
    "# Função responsável por decifrar a mensagem recebida\n",
    "\n"
   ]
  },
  {
   "cell_type": "code",
   "execution_count": null,
   "metadata": {},
   "outputs": [],
   "source": [
    "def decrypt(package, key, associated_data):\n",
    "    \n",
    "    hmac = package[:32]\n",
    "\n",
    "    macDest = generate_mac(key[32:], package[32:])\n",
    "\n",
    "    if (hmac != macDest):\n",
    "        return 'ERROR - MAC/Password is not equal'\n",
    "\n",
    "    iv = package[32:44]\n",
    "\n",
    "    tag = package[44:60]\n",
    "\n",
    "    ciphertext = package[60:]\n",
    "    \n",
    "    # Construct a Cipher object, with the key, iv, and additionally the GCM tag used for authenticating the message.\n",
    "    decryptor = Cipher(algorithms.AES(key[:32]), modes.GCM(iv, tag), backend=default_backend()).decryptor()\n",
    "\n",
    "    # We put associated_data back in or the tag will fail to verify when we finalize the decryptor.\n",
    "    decryptor.authenticate_additional_data(associated_data)\n",
    "\n",
    "    # Decryption gets us the authenticated plaintext. If the tag does not match \n",
    "    # an InvalidTag exception will be raised.\n",
    "    plaintext = decryptor.update(ciphertext) + decryptor.finalize()\n",
    "\n",
    "    return plaintext.decode()"
   ]
  },
  {
   "cell_type": "markdown",
   "metadata": {},
   "source": [
    "# Processos que permitem a comunicação privada assíncrona entre um agente Emitter e um agente Receiver"
   ]
  },
  {
   "cell_type": "code",
   "execution_count": null,
   "metadata": {},
   "outputs": [],
   "source": [
    "from multiprocessing import Process, Pipe\n",
    "from getpass import getpass\n",
    "from base64 import b64encode, b64decode\n",
    "import time\n",
    "import lorem\n",
    "\n",
    "my_salt = os.urandom(16)\n",
    "\n",
    "def Emitter(conn):\n",
    "    passwd = getpass('Emmiter password: ').encode('utf-8') \n",
    "    key = generate_key(passwd, my_salt) # geração da chave a partir da password\n",
    "    \n",
    "    mess = lorem.sentence()\n",
    "    print('Mensagem inicial: ' + mess)\n",
    "    crypto = encrypt(mess, key, my_salt)\n",
    "    #print('Criptograma enviado: ' + b64encode(crypto).decode())\n",
    "    conn.send(crypto)  # envia uma mensagem pelo seu lado do Pipe\n",
    "    conn.close()        # termina a ligação do seu lado do Pipe\n",
    "    \n",
    "def Receiver(conn):\n",
    "    passwd = getpass('Emmiter password: ').encode('utf-8')   \n",
    "    key = generate_key(passwd, my_salt) # geração da chave a partir da password\n",
    "    \n",
    "    crypto = conn.recv()  # recebe a mensagem do seu lado do Pipe\n",
    "    #print('Criptograma recebido: ' + b64encode(crypto).decode())\n",
    "    mess = decrypt(crypto, key, my_salt)\n",
    "    print('Mensagem recebida: ' + mess)         # faz qualquer coisa com a informação recebida\n",
    "    conn.close()        # fecha a ligação do seu lado\n",
    "\n",
    "class BiConn(object):\n",
    "    def __init__(self, emitter, receiver, timeout=None):\n",
    "        \"\"\"\n",
    "        emitter : a função que vai ligar ao lado esquerdo do Pipe\n",
    "        receiver: a função que vai ligar ao outro lado\n",
    "        timeout: (opcional) numero de segundos que aguarda pela terminação do processo\n",
    "        \"\"\"\n",
    "        emitter_end, receiver_end = Pipe()\n",
    "        self.timeout = timeout        \n",
    "        self.eproc = Process(target=emitter, args=(emitter_end,))       # os processos ligados ao Pipe\n",
    "        self.rproc = Process(target=receiver, args=(receiver_end,))\n",
    "        self.emitter  = lambda : emitter(emitter_end)                       # as funções ligadas já ao Pipe\n",
    "        self.receiver = lambda : receiver(receiver_end)\n",
    "    \n",
    "    def auto(self, proc=None):\n",
    "        if proc == None:             # corre os dois processos independentes\n",
    "            self.eproc.start()\n",
    "            self.rproc.start()\n",
    "            self.eproc.join(self.timeout)\n",
    "            self.rproc.join(self.timeout)\n",
    "        else:                        # corre só o processo passado como parâmetro\n",
    "            proc.start(); proc.join()\n",
    "    \n",
    "    def manual(self):   #  corre as duas funções no contexto de um mesmo processo Python\n",
    "        self.emitter()\n",
    "        self.receiver()\n",
    "    \n",
    "    \n",
    "Conn = BiConn(Emitter, Receiver)\n",
    "Conn.manual()"
   ]
  }
 ],
 "metadata": {
  "kernelspec": {
   "display_name": "Python 3",
   "language": "python",
   "name": "python3"
  },
  "language_info": {
   "codemirror_mode": {
    "name": "ipython",
    "version": 2
   },
   "file_extension": ".py",
   "mimetype": "text/x-python",
   "name": "python",
   "nbconvert_exporter": "python",
   "pygments_lexer": "ipython2",
   "version": "2.7.15"
  }
 },
 "nbformat": 4,
 "nbformat_minor": 2
}
