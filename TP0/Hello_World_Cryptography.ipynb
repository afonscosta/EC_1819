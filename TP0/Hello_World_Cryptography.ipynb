{
 "cells": [
  {
   "cell_type": "markdown",
   "metadata": {},
   "source": [
    "# Função responsável por gerar a chave através de uma password\n",
    "\n",
    "A geração da chave é realizada com recurso a uma **KDF**, nomeadamente, a `PBKDF2HMAC`, que se encontra disponível no módulo **Cryptography**. Como argumento é passada a *password* introduzida pelo utilizador (em *bytes*) e um *salt* pseudoaleatório."
   ]
  },
  {
   "cell_type": "code",
   "execution_count": 1,
   "metadata": {},
   "outputs": [],
   "source": [
    "import os\n",
    "from cryptography.hazmat.primitives.kdf.pbkdf2 import PBKDF2HMAC\n",
    "from cryptography.hazmat.backends import default_backend\n",
    "from cryptography.hazmat.primitives import hashes, hmac\n",
    "\n",
    "def generate_key(password, salt=os.urandom(16)):\n",
    "    backend = default_backend()\n",
    "    \n",
    "    kdf = PBKDF2HMAC(\n",
    "        algorithm=hashes.SHA256(),\n",
    "        length=96,\n",
    "        salt=salt,\n",
    "        iterations=100000,\n",
    "        backend=backend\n",
    "    )\n",
    "\n",
    "    key = kdf.derive(password)\n",
    "\n",
    "    return key"
   ]
  },
  {
   "cell_type": "markdown",
   "metadata": {},
   "source": [
    "# Função responsável por gerar o MAC de um criptograma\n",
    "\n",
    "Para o efeito foi utilizado o `HMAC_SHA256` e a chave gerada para produzir um MAC que identifica unicamente o criptograma em questão. Por um lado, o emissor utiliza esta função para produzir o HMAC que é enviado juntamente com o criptograma. Por outro lado, o recetor utiliza-a com o objetivo de verificar o HMAC associado ao criptograma recebido e, consequentemente, verificar a integridade da mensagem."
   ]
  },
  {
   "cell_type": "code",
   "execution_count": 2,
   "metadata": {},
   "outputs": [],
   "source": [
    "def generate_mac(key, crypto):\n",
    "    h = hmac.HMAC(key, hashes.SHA256(), backend = default_backend())\n",
    "    h.update(crypto)\n",
    "    return h.finalize()"
   ]
  },
  {
   "cell_type": "markdown",
   "metadata": {},
   "source": [
    "# Função responsável por cifrar a mensagem a ser enviada\n",
    "\n",
    "Para cifrar a mensagem a ser enviada é utilizado a cifra simétrica **AES** no modo **GCM**. Dado que este modo permite autenticar o conteúdo do argumento `associated_data`, este foi concretizado com o *salt* utilizado para gerar a chave usada. De salientar que a chave passada no argumento `key` tem um comprimento de 64 byte. Assim, os primeiros 32 byte são utilizados para cifrar o `plaintext` e os últimos 32 byte são usados como chave para gerar o HMAC do criptograma."
   ]
  },
  {
   "cell_type": "code",
   "execution_count": 3,
   "metadata": {},
   "outputs": [],
   "source": [
    "from cryptography.hazmat.primitives.ciphers import Cipher, algorithms, modes\n",
    "from pickle import dumps\n",
    "\n",
    "def encrypt(plaintext, key, associated_data):\n",
    "\n",
    "    # Generate a random 96-bit IV.\n",
    "    iv = os.urandom(12)\n",
    "    \n",
    "    # Construct an AES-GCM Cipher object with the \n",
    "    # given key and a randomly generated IV.\n",
    "    encryptor = Cipher(algorithms.AES(key[:32]), \n",
    "                       modes.GCM(iv), \n",
    "                       backend=default_backend()).encryptor()\n",
    "    \n",
    "    # associated_data will be authenticated but not encrypted, \n",
    "    # it must also be passed in on decryption.\n",
    "    encryptor.authenticate_additional_data(associated_data)\n",
    "\n",
    "    # Encrypt the plaintext and get the associated ciphertext. \n",
    "    # GCM does not require padding.\n",
    "    ciphertext = encryptor.update(plaintext.encode()) + encryptor.finalize()\n",
    "\n",
    "    package = { 'iv': iv, 'tag': encryptor.tag, 'crypto': ciphertext }\n",
    "\n",
    "    hmac = generate_mac(key[32:64], dumps(package))\n",
    "\n",
    "    return {'mess' : package, 'tag' : hmac}"
   ]
  },
  {
   "cell_type": "markdown",
   "metadata": {},
   "source": [
    "# Função responsável por decifrar a mensagem recebida\n",
    "\n",
    "Para decifrar a mensagem recebido é realizado o processo inverso:\n",
    "1. Retira-se o HMAC calculado no processo de cifragem.\n",
    "2. Calcula-se o novo HMAC.\n",
    "3. Os HMAC's são comparados.\n",
    "4. Caso sejam iguais o processo continua. Caso contrário é devolvida uma mensagem de erro.\n",
    "5. Decompõe-se o criptograma (iv + tag + crypto).\n",
    "6. Verifica-se a autenticação da `associated_data`.\n",
    "7. Decifra-se o criptograma.\n",
    "8. Devolve-se o `plaintext`."
   ]
  },
  {
   "cell_type": "code",
   "execution_count": 4,
   "metadata": {},
   "outputs": [],
   "source": [
    "def decrypt(pkg, key, associated_data):\n",
    "    crypto = pkg['mess']\n",
    "    hmac = pkg['tag']\n",
    "    \n",
    "    macDest = generate_mac(key[32:64], dumps(crypto))\n",
    "    if (hmac != macDest):\n",
    "        return 'ERROR - MAC/Password is not equal'\n",
    "    \n",
    "    iv = crypto['iv']\n",
    "    tag = crypto['tag']\n",
    "    ciphertext = crypto['crypto']\n",
    "    \n",
    "    # Construct a Cipher object, with the key, iv, \n",
    "    # and additionally the GCM tag used for authenticating the message.\n",
    "    decryptor = Cipher(algorithms.AES(key[:32]), \n",
    "                       modes.GCM(iv, tag), \n",
    "                       backend=default_backend()).decryptor()\n",
    "\n",
    "    # We put associated_data back in or the tag will fail \n",
    "    # to verify when we finalize the decryptor.\n",
    "    decryptor.authenticate_additional_data(associated_data)\n",
    "\n",
    "    # Decryption gets us the authenticated plaintext. \n",
    "    # If the tag does not match an InvalidTag exception will be raised.\n",
    "    plaintext = decryptor.update(ciphertext) + decryptor.finalize()\n",
    "\n",
    "    return plaintext.decode()"
   ]
  },
  {
   "cell_type": "markdown",
   "metadata": {},
   "source": [
    "# Processos que permitem a comunicação privada assíncrona entre um agente Emitter e um agente Receiver\n",
    "\n",
    "1. O processo `Emitter`, para além de gerar a chave a partir da *password*, gera um HMAC para a chave gerada, cria uma mensagem, cifra essa mensagem com a chave e envia o criptograma (crypto + hmac_key + salt) pelo canal. \n",
    "2. O processo `Receiver` gera também a chave a partir de uma *password*, compara os HMAC's da chave e decifra a mensagem recebida pelo canal.\n",
    "3. A classe `BiConn` tem como objetivo criar o `pipe` que vai ser usado pelos intervenientes para comunicação, e inicializar os processos que vão utilizar a via de diálogo criada."
   ]
  },
  {
   "cell_type": "code",
   "execution_count": 5,
   "metadata": {},
   "outputs": [
    {
     "name": "stdout",
     "output_type": "stream",
     "text": [
      "Emmiter password: ········\n",
      "Mensagem inicial: Consectetur ipsum non dolorem.\n",
      "Emmiter password: ········\n",
      "Mensagem recebida: Consectetur ipsum non dolorem.\n"
     ]
    }
   ],
   "source": [
    "from multiprocessing import Process, Pipe\n",
    "from getpass import getpass\n",
    "from base64 import b64encode, b64decode\n",
    "import time\n",
    "import lorem\n",
    "\n",
    "\n",
    "def Emitter(conn):\n",
    "    my_salt = os.urandom(16)\n",
    "    passwd = getpass('Emmiter password: ').encode('utf-8') \n",
    "    # geração da chave a partir da password\n",
    "    key = generate_key(passwd, my_salt) \n",
    "    hmac_key = generate_mac(key[64:], key)\n",
    "    mess = lorem.sentence()\n",
    "    print('Mensagem inicial: ' + mess)\n",
    "    pkg = encrypt(mess, key, my_salt)\n",
    "    pkg['hmac_key'] = hmac_key\n",
    "    pkg['salt'] = my_salt\n",
    "    conn.send(pkg) # envia uma mensagem pelo seu lado do Pipe\n",
    "    conn.close()   # termina a ligação do seu lado do Pipe\n",
    "    \n",
    "def Receiver(conn):\n",
    "    pkg = conn.recv()  # recebe a mensagem do seu lado do Pipe\n",
    "    hmac_key = pkg['hmac_key']\n",
    "    my_salt = pkg['salt']\n",
    "    passwd = getpass('Emmiter password: ').encode('utf-8')\n",
    "    # geração da chave a partir da password\n",
    "    key = generate_key(passwd, my_salt) \n",
    "    if hmac_key == generate_mac(key[64:], key):\n",
    "        mess = decrypt(pkg, key, my_salt)\n",
    "        # faz qualquer coisa com a informação recebida\n",
    "        print('Mensagem recebida: ' + mess) \n",
    "    else:\n",
    "        print('ERROR - Different keys used.')\n",
    "    conn.close()        # fecha a ligação do seu lado\n",
    "\n",
    "class BiConn(object):\n",
    "    def __init__(self, emitter, receiver, timeout=None):\n",
    "        \"\"\"\n",
    "        emitter : a função que vai ligar ao lado esquerdo do Pipe\n",
    "        receiver: a função que vai ligar ao outro lado\n",
    "        timeout: (opcional) numero de segundos que aguarda \n",
    "                 pela terminação do processo\n",
    "        \"\"\"\n",
    "        emitter_end, receiver_end = Pipe()\n",
    "        self.timeout = timeout\n",
    "        # os processos ligados ao Pipe\n",
    "        self.eproc = Process(target=emitter, args=(emitter_end,))       \n",
    "        self.rproc = Process(target=receiver, args=(receiver_end,))\n",
    "        # as funções ligadas já ao Pipe\n",
    "        self.emitter  = lambda : emitter(emitter_end)                       \n",
    "        self.receiver = lambda : receiver(receiver_end)\n",
    "    \n",
    "    def auto(self, proc=None):\n",
    "        if proc == None: # corre os dois processos independentes\n",
    "            self.eproc.start()\n",
    "            self.rproc.start()\n",
    "            self.eproc.join(self.timeout)\n",
    "            self.rproc.join(self.timeout)\n",
    "        else:            # corre só o processo passado como parâmetro\n",
    "            proc.start(); proc.join()\n",
    "    \n",
    "    #  corre as duas funções no contexto de um mesmo processo Python\n",
    "    def manual(self):   \n",
    "        self.emitter()\n",
    "        self.receiver()\n",
    "    \n",
    "    \n",
    "Conn = BiConn(Emitter, Receiver)\n",
    "Conn.manual()"
   ]
  }
 ],
 "metadata": {
  "kernelspec": {
   "display_name": "Python 3",
   "language": "python",
   "name": "python3"
  },
  "language_info": {
   "codemirror_mode": {
    "name": "ipython",
    "version": 3
   },
   "file_extension": ".py",
   "mimetype": "text/x-python",
   "name": "python",
   "nbconvert_exporter": "python",
   "pygments_lexer": "ipython3",
   "version": "3.7.2"
  }
 },
 "nbformat": 4,
 "nbformat_minor": 2
}
