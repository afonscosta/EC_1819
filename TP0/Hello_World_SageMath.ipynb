{
 "cells": [
  {
   "cell_type": "markdown",
   "metadata": {},
   "source": [
    "# Célula responsável por gerar os campos finitos de primos\n",
    "\n",
    "A geração dos campos finitos de primos de tamanho `p` é feita através da função `GF`. Os campos, de ordem 37, 163, 263 e 1009, respetivamente, são depois guardados num *array* para subsequente utilização."
   ]
  },
  {
   "cell_type": "code",
   "execution_count": null,
   "metadata": {},
   "outputs": [],
   "source": [
    "primes = [37, 163, 263, 1009]\n",
    "ffs = []\n",
    "\n",
    "for p in primes:\n",
    "    ff = GF(p)\n",
    "    ffs.append(ff)"
   ]
  },
  {
   "cell_type": "markdown",
   "metadata": {},
   "source": [
    "# Célula responsável pelo *plotting* de funções recorrendo aos campos finitos\n",
    "\n",
    "A cada um dos campos finitos gerados, é aplicada a função matemática `f(x) = x**(p-2)`, sendo `p` o tamanho do campo finito. É depois gerado um referencial para cada uma das funções criadas."
   ]
  },
  {
   "cell_type": "code",
   "execution_count": null,
   "metadata": {},
   "outputs": [],
   "source": [
    "x = var('x')\n",
    "for i,p in enumerate(primes):\n",
    "    ff = ffs[i]\n",
    "    values = []\n",
    "    for i in range(p):\n",
    "        values.append((i,ff(i)**(p-2)))\n",
    "    show(line(values), axes_labels=['Elements of the finite field', 'Result of x**(p-2)'], \n",
    "         axes_labels_size=0.7, title='Plot for p = ' + str(p))"
   ]
  },
  {
   "cell_type": "markdown",
   "metadata": {},
   "source": [
    "# Célula responsável por determinar o menor elemento primitivo de cada campo finito\n",
    "\n",
    "Um elemento primitivo `g` define-se como um valor do campo finito para o qual,  para todo `n`, `g**n` corresponde a um elemento distinto do mesmo campo. Sabe-se que, caso um elemento primo seja primitivo, então `g**n = 1` se e só se `n mod p - 1 = 0`.\n",
    "\n",
    "Para cada um dos campos finitos, são analisados os seus primos de modo a determinar o menor elemento primitivo primo, validando o resultado através da condição anteriormente exposta."
   ]
  },
  {
   "cell_type": "code",
   "execution_count": null,
   "metadata": {},
   "outputs": [],
   "source": [
    "from random import sample\n",
    "\n",
    "\n",
    "for ff in ffs:\n",
    "    primitive = False\n",
    "    results = set()\n",
    "    p = int(ff.characteristic())\n",
    "    g = 2\n",
    "    while g < p and not primitive:\n",
    "        element = ff(g)\n",
    "        for i in range(1, p - 1):\n",
    "            results.add(element**i)\n",
    "        if len(results) == p - 2:\n",
    "            primitive = True\n",
    "            for n in range(p):\n",
    "                fst_cond = element**n == 1 % (p-1)\n",
    "                snd_cond = n % (p-1) == 0\n",
    "                if (fst_cond != snd_cond):\n",
    "                    primitive = False\n",
    "                    g = next_prime(g)\n",
    "                    break\n",
    "        else:\n",
    "            g = next_prime(g)\n",
    "        results.clear()\n",
    "    if primitive:\n",
    "        print(str(g) + ' is the lowest primitive element for a finite prime field of size ' + str(p) + ' for which it is verified that for all exponents, g**n = one if and only if n mod p - 1 = 0')\n",
    "        print('')\n",
    "    else:\n",
    "        print('There are no primitive elements in the finite field of size ' + str(p)) \n",
    "        print('')"
   ]
  }
 ],
 "metadata": {
  "kernelspec": {
   "display_name": "SageMath 8.6",
   "language": "",
   "name": "sagemath"
  },
  "language_info": {
   "codemirror_mode": {
    "name": "ipython",
    "version": 2
   },
   "file_extension": ".py",
   "mimetype": "text/x-python",
   "name": "python",
   "nbconvert_exporter": "python",
   "pygments_lexer": "ipython2",
   "version": "2.7.15"
  }
 },
 "nbformat": 4,
 "nbformat_minor": 2
}
